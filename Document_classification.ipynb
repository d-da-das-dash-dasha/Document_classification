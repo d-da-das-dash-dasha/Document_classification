{
  "cells": [
    {
      "cell_type": "markdown",
      "metadata": {
        "id": "itRtFtrOf0_b"
      },
      "source": [
        "В этой работе нам предстоит построить классификатор текстов.\n",
        "\n",
        "Будем предсказывать эмоциональную окраску твиттов о коронавирусе.\n",
        "\n"
      ]
    },
    {
      "cell_type": "code",
      "execution_count": null,
      "metadata": {
        "id": "tNGRVO7_g9mz"
      },
      "outputs": [],
      "source": [
        "import numpy as np\n",
        "import pandas as pd\n",
        "from typing import  List\n",
        "import matplotlib.pyplot as plt\n",
        "import seaborn as sns\n",
        "from string import punctuation"
      ]
    },
    {
      "cell_type": "code",
      "execution_count": null,
      "metadata": {
        "colab": {
          "base_uri": "https://localhost:8080/",
          "height": 175
        },
        "id": "zOy8iHJQg_Ss",
        "outputId": "a4e00e29-0de5-4124-e9ab-ea1b3957f096"
      },
      "outputs": [
        {
          "output_type": "execute_result",
          "data": {
            "text/plain": [
              "   UserName  ScreenName   Location     TweetAt  \\\n",
              "0      3800       48752         UK  16-03-2020   \n",
              "1      3801       48753  Vagabonds  16-03-2020   \n",
              "2      3802       48754        NaN  16-03-2020   \n",
              "3      3803       48755        NaN  16-03-2020   \n",
              "\n",
              "                                       OriginalTweet           Sentiment  \n",
              "0  advice Talk to your neighbours family to excha...            Positive  \n",
              "1  Coronavirus Australia: Woolworths to give elde...            Positive  \n",
              "2  My food stock is not the only one which is emp...            Positive  \n",
              "3  Me, ready to go at supermarket during the #COV...  Extremely Negative  "
            ],
            "text/html": [
              "\n",
              "  <div id=\"df-1052629c-d182-4cae-aef2-6e6be8ba9ea0\" class=\"colab-df-container\">\n",
              "    <div>\n",
              "<style scoped>\n",
              "    .dataframe tbody tr th:only-of-type {\n",
              "        vertical-align: middle;\n",
              "    }\n",
              "\n",
              "    .dataframe tbody tr th {\n",
              "        vertical-align: top;\n",
              "    }\n",
              "\n",
              "    .dataframe thead th {\n",
              "        text-align: right;\n",
              "    }\n",
              "</style>\n",
              "<table border=\"1\" class=\"dataframe\">\n",
              "  <thead>\n",
              "    <tr style=\"text-align: right;\">\n",
              "      <th></th>\n",
              "      <th>UserName</th>\n",
              "      <th>ScreenName</th>\n",
              "      <th>Location</th>\n",
              "      <th>TweetAt</th>\n",
              "      <th>OriginalTweet</th>\n",
              "      <th>Sentiment</th>\n",
              "    </tr>\n",
              "  </thead>\n",
              "  <tbody>\n",
              "    <tr>\n",
              "      <th>0</th>\n",
              "      <td>3800</td>\n",
              "      <td>48752</td>\n",
              "      <td>UK</td>\n",
              "      <td>16-03-2020</td>\n",
              "      <td>advice Talk to your neighbours family to excha...</td>\n",
              "      <td>Positive</td>\n",
              "    </tr>\n",
              "    <tr>\n",
              "      <th>1</th>\n",
              "      <td>3801</td>\n",
              "      <td>48753</td>\n",
              "      <td>Vagabonds</td>\n",
              "      <td>16-03-2020</td>\n",
              "      <td>Coronavirus Australia: Woolworths to give elde...</td>\n",
              "      <td>Positive</td>\n",
              "    </tr>\n",
              "    <tr>\n",
              "      <th>2</th>\n",
              "      <td>3802</td>\n",
              "      <td>48754</td>\n",
              "      <td>NaN</td>\n",
              "      <td>16-03-2020</td>\n",
              "      <td>My food stock is not the only one which is emp...</td>\n",
              "      <td>Positive</td>\n",
              "    </tr>\n",
              "    <tr>\n",
              "      <th>3</th>\n",
              "      <td>3803</td>\n",
              "      <td>48755</td>\n",
              "      <td>NaN</td>\n",
              "      <td>16-03-2020</td>\n",
              "      <td>Me, ready to go at supermarket during the #COV...</td>\n",
              "      <td>Extremely Negative</td>\n",
              "    </tr>\n",
              "  </tbody>\n",
              "</table>\n",
              "</div>\n",
              "    <div class=\"colab-df-buttons\">\n",
              "\n",
              "  <div class=\"colab-df-container\">\n",
              "    <button class=\"colab-df-convert\" onclick=\"convertToInteractive('df-1052629c-d182-4cae-aef2-6e6be8ba9ea0')\"\n",
              "            title=\"Convert this dataframe to an interactive table.\"\n",
              "            style=\"display:none;\">\n",
              "\n",
              "  <svg xmlns=\"http://www.w3.org/2000/svg\" height=\"24px\" viewBox=\"0 -960 960 960\">\n",
              "    <path d=\"M120-120v-720h720v720H120Zm60-500h600v-160H180v160Zm220 220h160v-160H400v160Zm0 220h160v-160H400v160ZM180-400h160v-160H180v160Zm440 0h160v-160H620v160ZM180-180h160v-160H180v160Zm440 0h160v-160H620v160Z\"/>\n",
              "  </svg>\n",
              "    </button>\n",
              "\n",
              "  <style>\n",
              "    .colab-df-container {\n",
              "      display:flex;\n",
              "      gap: 12px;\n",
              "    }\n",
              "\n",
              "    .colab-df-convert {\n",
              "      background-color: #E8F0FE;\n",
              "      border: none;\n",
              "      border-radius: 50%;\n",
              "      cursor: pointer;\n",
              "      display: none;\n",
              "      fill: #1967D2;\n",
              "      height: 32px;\n",
              "      padding: 0 0 0 0;\n",
              "      width: 32px;\n",
              "    }\n",
              "\n",
              "    .colab-df-convert:hover {\n",
              "      background-color: #E2EBFA;\n",
              "      box-shadow: 0px 1px 2px rgba(60, 64, 67, 0.3), 0px 1px 3px 1px rgba(60, 64, 67, 0.15);\n",
              "      fill: #174EA6;\n",
              "    }\n",
              "\n",
              "    .colab-df-buttons div {\n",
              "      margin-bottom: 4px;\n",
              "    }\n",
              "\n",
              "    [theme=dark] .colab-df-convert {\n",
              "      background-color: #3B4455;\n",
              "      fill: #D2E3FC;\n",
              "    }\n",
              "\n",
              "    [theme=dark] .colab-df-convert:hover {\n",
              "      background-color: #434B5C;\n",
              "      box-shadow: 0px 1px 3px 1px rgba(0, 0, 0, 0.15);\n",
              "      filter: drop-shadow(0px 1px 2px rgba(0, 0, 0, 0.3));\n",
              "      fill: #FFFFFF;\n",
              "    }\n",
              "  </style>\n",
              "\n",
              "    <script>\n",
              "      const buttonEl =\n",
              "        document.querySelector('#df-1052629c-d182-4cae-aef2-6e6be8ba9ea0 button.colab-df-convert');\n",
              "      buttonEl.style.display =\n",
              "        google.colab.kernel.accessAllowed ? 'block' : 'none';\n",
              "\n",
              "      async function convertToInteractive(key) {\n",
              "        const element = document.querySelector('#df-1052629c-d182-4cae-aef2-6e6be8ba9ea0');\n",
              "        const dataTable =\n",
              "          await google.colab.kernel.invokeFunction('convertToInteractive',\n",
              "                                                    [key], {});\n",
              "        if (!dataTable) return;\n",
              "\n",
              "        const docLinkHtml = 'Like what you see? Visit the ' +\n",
              "          '<a target=\"_blank\" href=https://colab.research.google.com/notebooks/data_table.ipynb>data table notebook</a>'\n",
              "          + ' to learn more about interactive tables.';\n",
              "        element.innerHTML = '';\n",
              "        dataTable['output_type'] = 'display_data';\n",
              "        await google.colab.output.renderOutput(dataTable, element);\n",
              "        const docLink = document.createElement('div');\n",
              "        docLink.innerHTML = docLinkHtml;\n",
              "        element.appendChild(docLink);\n",
              "      }\n",
              "    </script>\n",
              "  </div>\n",
              "\n",
              "\n",
              "<div id=\"df-e30c10f7-395d-4c48-bd18-dc35fb0c406f\">\n",
              "  <button class=\"colab-df-quickchart\" onclick=\"quickchart('df-e30c10f7-395d-4c48-bd18-dc35fb0c406f')\"\n",
              "            title=\"Suggest charts\"\n",
              "            style=\"display:none;\">\n",
              "\n",
              "<svg xmlns=\"http://www.w3.org/2000/svg\" height=\"24px\"viewBox=\"0 0 24 24\"\n",
              "     width=\"24px\">\n",
              "    <g>\n",
              "        <path d=\"M19 3H5c-1.1 0-2 .9-2 2v14c0 1.1.9 2 2 2h14c1.1 0 2-.9 2-2V5c0-1.1-.9-2-2-2zM9 17H7v-7h2v7zm4 0h-2V7h2v10zm4 0h-2v-4h2v4z\"/>\n",
              "    </g>\n",
              "</svg>\n",
              "  </button>\n",
              "\n",
              "<style>\n",
              "  .colab-df-quickchart {\n",
              "      --bg-color: #E8F0FE;\n",
              "      --fill-color: #1967D2;\n",
              "      --hover-bg-color: #E2EBFA;\n",
              "      --hover-fill-color: #174EA6;\n",
              "      --disabled-fill-color: #AAA;\n",
              "      --disabled-bg-color: #DDD;\n",
              "  }\n",
              "\n",
              "  [theme=dark] .colab-df-quickchart {\n",
              "      --bg-color: #3B4455;\n",
              "      --fill-color: #D2E3FC;\n",
              "      --hover-bg-color: #434B5C;\n",
              "      --hover-fill-color: #FFFFFF;\n",
              "      --disabled-bg-color: #3B4455;\n",
              "      --disabled-fill-color: #666;\n",
              "  }\n",
              "\n",
              "  .colab-df-quickchart {\n",
              "    background-color: var(--bg-color);\n",
              "    border: none;\n",
              "    border-radius: 50%;\n",
              "    cursor: pointer;\n",
              "    display: none;\n",
              "    fill: var(--fill-color);\n",
              "    height: 32px;\n",
              "    padding: 0;\n",
              "    width: 32px;\n",
              "  }\n",
              "\n",
              "  .colab-df-quickchart:hover {\n",
              "    background-color: var(--hover-bg-color);\n",
              "    box-shadow: 0 1px 2px rgba(60, 64, 67, 0.3), 0 1px 3px 1px rgba(60, 64, 67, 0.15);\n",
              "    fill: var(--button-hover-fill-color);\n",
              "  }\n",
              "\n",
              "  .colab-df-quickchart-complete:disabled,\n",
              "  .colab-df-quickchart-complete:disabled:hover {\n",
              "    background-color: var(--disabled-bg-color);\n",
              "    fill: var(--disabled-fill-color);\n",
              "    box-shadow: none;\n",
              "  }\n",
              "\n",
              "  .colab-df-spinner {\n",
              "    border: 2px solid var(--fill-color);\n",
              "    border-color: transparent;\n",
              "    border-bottom-color: var(--fill-color);\n",
              "    animation:\n",
              "      spin 1s steps(1) infinite;\n",
              "  }\n",
              "\n",
              "  @keyframes spin {\n",
              "    0% {\n",
              "      border-color: transparent;\n",
              "      border-bottom-color: var(--fill-color);\n",
              "      border-left-color: var(--fill-color);\n",
              "    }\n",
              "    20% {\n",
              "      border-color: transparent;\n",
              "      border-left-color: var(--fill-color);\n",
              "      border-top-color: var(--fill-color);\n",
              "    }\n",
              "    30% {\n",
              "      border-color: transparent;\n",
              "      border-left-color: var(--fill-color);\n",
              "      border-top-color: var(--fill-color);\n",
              "      border-right-color: var(--fill-color);\n",
              "    }\n",
              "    40% {\n",
              "      border-color: transparent;\n",
              "      border-right-color: var(--fill-color);\n",
              "      border-top-color: var(--fill-color);\n",
              "    }\n",
              "    60% {\n",
              "      border-color: transparent;\n",
              "      border-right-color: var(--fill-color);\n",
              "    }\n",
              "    80% {\n",
              "      border-color: transparent;\n",
              "      border-right-color: var(--fill-color);\n",
              "      border-bottom-color: var(--fill-color);\n",
              "    }\n",
              "    90% {\n",
              "      border-color: transparent;\n",
              "      border-bottom-color: var(--fill-color);\n",
              "    }\n",
              "  }\n",
              "</style>\n",
              "\n",
              "  <script>\n",
              "    async function quickchart(key) {\n",
              "      const quickchartButtonEl =\n",
              "        document.querySelector('#' + key + ' button');\n",
              "      quickchartButtonEl.disabled = true;  // To prevent multiple clicks.\n",
              "      quickchartButtonEl.classList.add('colab-df-spinner');\n",
              "      try {\n",
              "        const charts = await google.colab.kernel.invokeFunction(\n",
              "            'suggestCharts', [key], {});\n",
              "      } catch (error) {\n",
              "        console.error('Error during call to suggestCharts:', error);\n",
              "      }\n",
              "      quickchartButtonEl.classList.remove('colab-df-spinner');\n",
              "      quickchartButtonEl.classList.add('colab-df-quickchart-complete');\n",
              "    }\n",
              "    (() => {\n",
              "      let quickchartButtonEl =\n",
              "        document.querySelector('#df-e30c10f7-395d-4c48-bd18-dc35fb0c406f button');\n",
              "      quickchartButtonEl.style.display =\n",
              "        google.colab.kernel.accessAllowed ? 'block' : 'none';\n",
              "    })();\n",
              "  </script>\n",
              "</div>\n",
              "    </div>\n",
              "  </div>\n"
            ],
            "application/vnd.google.colaboratory.intrinsic+json": {
              "type": "dataframe",
              "variable_name": "df",
              "summary": "{\n  \"name\": \"df\",\n  \"rows\": 33444,\n  \"fields\": [\n    {\n      \"column\": \"UserName\",\n      \"properties\": {\n        \"dtype\": \"number\",\n        \"std\": 11875,\n        \"min\": 3800,\n        \"max\": 44955,\n        \"num_unique_values\": 33444,\n        \"samples\": [\n          33995,\n          17124,\n          18421\n        ],\n        \"semantic_type\": \"\",\n        \"description\": \"\"\n      }\n    },\n    {\n      \"column\": \"ScreenName\",\n      \"properties\": {\n        \"dtype\": \"number\",\n        \"std\": 11875,\n        \"min\": 48752,\n        \"max\": 89907,\n        \"num_unique_values\": 33444,\n        \"samples\": [\n          78947,\n          62076,\n          63373\n        ],\n        \"semantic_type\": \"\",\n        \"description\": \"\"\n      }\n    },\n    {\n      \"column\": \"Location\",\n      \"properties\": {\n        \"dtype\": \"category\",\n        \"num_unique_values\": 10465,\n        \"samples\": [\n          \"Kitchener | Ontario | Canada\",\n          \"Montr\\u00c3\\u0083\\u00c2\\u00a9al\",\n          \"England. Germany.\"\n        ],\n        \"semantic_type\": \"\",\n        \"description\": \"\"\n      }\n    },\n    {\n      \"column\": \"TweetAt\",\n      \"properties\": {\n        \"dtype\": \"object\",\n        \"num_unique_values\": 30,\n        \"samples\": [\n          \"12-04-2020\",\n          \"31-03-2020\",\n          \"08-04-2020\"\n        ],\n        \"semantic_type\": \"\",\n        \"description\": \"\"\n      }\n    },\n    {\n      \"column\": \"OriginalTweet\",\n      \"properties\": {\n        \"dtype\": \"string\",\n        \"num_unique_values\": 33444,\n        \"samples\": [\n          \"US death toll is way less than estimated. This I hope will bring back consumer confidence #coronavirus #Covid_19 #CoronavirusUSA\",\n          \"We will get through this by people helping people and not stock piling food and toiletries, selfish pricks #Covid_19\",\n          \"#rice prices soar to two-year high, traders blame it on #coronavirus panic buying, writes #YasirWardad https://t.co/hIXzS1DKdo #FE via @febdonline\"\n        ],\n        \"semantic_type\": \"\",\n        \"description\": \"\"\n      }\n    },\n    {\n      \"column\": \"Sentiment\",\n      \"properties\": {\n        \"dtype\": \"category\",\n        \"num_unique_values\": 4,\n        \"samples\": [\n          \"Extremely Negative\",\n          \"Extremely Positive\",\n          \"Positive\"\n        ],\n        \"semantic_type\": \"\",\n        \"description\": \"\"\n      }\n    }\n  ]\n}"
            }
          },
          "metadata": {},
          "execution_count": 6
        }
      ],
      "source": [
        "df = pd.read_csv('/content/tweets_coronavirus.csv', encoding='latin-1')\n",
        "df.head(4)"
      ]
    },
    {
      "cell_type": "code",
      "source": [
        "print(df.shape[0])"
      ],
      "metadata": {
        "colab": {
          "base_uri": "https://localhost:8080/"
        },
        "id": "y57odHei-xbm",
        "outputId": "4082b940-ac95-430a-8805-a9795ef8803d"
      },
      "execution_count": null,
      "outputs": [
        {
          "output_type": "stream",
          "name": "stdout",
          "text": [
            "33444\n"
          ]
        }
      ]
    },
    {
      "cell_type": "markdown",
      "metadata": {
        "id": "m2OiDog9ZBlS"
      },
      "source": [
        "Для каждого твитта указано:\n",
        "\n",
        "\n",
        "*   UserName - имя пользователя, заменено на целое число для анонимности\n",
        "*   ScreenName - отображающееся имя пользователя, заменено на целое число для анонимности\n",
        "*   Location - местоположение\n",
        "*   TweetAt - дата создания твитта\n",
        "*   OriginalTweet - текст твитта\n",
        "*   Sentiment - эмоциональная окраска твитта (целевая переменная)\n",
        "\n"
      ]
    },
    {
      "cell_type": "markdown",
      "metadata": {
        "id": "pZTMseDkhTC7"
      },
      "source": [
        "##Подготовка"
      ]
    },
    {
      "cell_type": "markdown",
      "metadata": {
        "id": "Xx2-odn9hdAW"
      },
      "source": [
        "Целевая переменная находится в колонке `Sentiment`.  Преобразуем ее таким образом, чтобы она стала бинарной: 1 - если у твитта положительная эмоциональная окраска и 0 - если отрицательная."
      ]
    },
    {
      "cell_type": "code",
      "execution_count": null,
      "metadata": {
        "colab": {
          "base_uri": "https://localhost:8080/",
          "height": 175
        },
        "id": "ZaQKQ1zEjP15",
        "outputId": "c4a41adf-b103-41e6-a848-bd3a07c3a226"
      },
      "outputs": [
        {
          "output_type": "execute_result",
          "data": {
            "text/plain": [
              "   UserName  ScreenName   Location     TweetAt  \\\n",
              "0      3800       48752         UK  16-03-2020   \n",
              "1      3801       48753  Vagabonds  16-03-2020   \n",
              "2      3802       48754        NaN  16-03-2020   \n",
              "3      3803       48755        NaN  16-03-2020   \n",
              "\n",
              "                                       OriginalTweet  Sentiment  \n",
              "0  advice Talk to your neighbours family to excha...          1  \n",
              "1  Coronavirus Australia: Woolworths to give elde...          1  \n",
              "2  My food stock is not the only one which is emp...          1  \n",
              "3  Me, ready to go at supermarket during the #COV...          0  "
            ],
            "text/html": [
              "\n",
              "  <div id=\"df-1d71e77f-19a2-44a9-8946-9f8987d740f9\" class=\"colab-df-container\">\n",
              "    <div>\n",
              "<style scoped>\n",
              "    .dataframe tbody tr th:only-of-type {\n",
              "        vertical-align: middle;\n",
              "    }\n",
              "\n",
              "    .dataframe tbody tr th {\n",
              "        vertical-align: top;\n",
              "    }\n",
              "\n",
              "    .dataframe thead th {\n",
              "        text-align: right;\n",
              "    }\n",
              "</style>\n",
              "<table border=\"1\" class=\"dataframe\">\n",
              "  <thead>\n",
              "    <tr style=\"text-align: right;\">\n",
              "      <th></th>\n",
              "      <th>UserName</th>\n",
              "      <th>ScreenName</th>\n",
              "      <th>Location</th>\n",
              "      <th>TweetAt</th>\n",
              "      <th>OriginalTweet</th>\n",
              "      <th>Sentiment</th>\n",
              "    </tr>\n",
              "  </thead>\n",
              "  <tbody>\n",
              "    <tr>\n",
              "      <th>0</th>\n",
              "      <td>3800</td>\n",
              "      <td>48752</td>\n",
              "      <td>UK</td>\n",
              "      <td>16-03-2020</td>\n",
              "      <td>advice Talk to your neighbours family to excha...</td>\n",
              "      <td>1</td>\n",
              "    </tr>\n",
              "    <tr>\n",
              "      <th>1</th>\n",
              "      <td>3801</td>\n",
              "      <td>48753</td>\n",
              "      <td>Vagabonds</td>\n",
              "      <td>16-03-2020</td>\n",
              "      <td>Coronavirus Australia: Woolworths to give elde...</td>\n",
              "      <td>1</td>\n",
              "    </tr>\n",
              "    <tr>\n",
              "      <th>2</th>\n",
              "      <td>3802</td>\n",
              "      <td>48754</td>\n",
              "      <td>NaN</td>\n",
              "      <td>16-03-2020</td>\n",
              "      <td>My food stock is not the only one which is emp...</td>\n",
              "      <td>1</td>\n",
              "    </tr>\n",
              "    <tr>\n",
              "      <th>3</th>\n",
              "      <td>3803</td>\n",
              "      <td>48755</td>\n",
              "      <td>NaN</td>\n",
              "      <td>16-03-2020</td>\n",
              "      <td>Me, ready to go at supermarket during the #COV...</td>\n",
              "      <td>0</td>\n",
              "    </tr>\n",
              "  </tbody>\n",
              "</table>\n",
              "</div>\n",
              "    <div class=\"colab-df-buttons\">\n",
              "\n",
              "  <div class=\"colab-df-container\">\n",
              "    <button class=\"colab-df-convert\" onclick=\"convertToInteractive('df-1d71e77f-19a2-44a9-8946-9f8987d740f9')\"\n",
              "            title=\"Convert this dataframe to an interactive table.\"\n",
              "            style=\"display:none;\">\n",
              "\n",
              "  <svg xmlns=\"http://www.w3.org/2000/svg\" height=\"24px\" viewBox=\"0 -960 960 960\">\n",
              "    <path d=\"M120-120v-720h720v720H120Zm60-500h600v-160H180v160Zm220 220h160v-160H400v160Zm0 220h160v-160H400v160ZM180-400h160v-160H180v160Zm440 0h160v-160H620v160ZM180-180h160v-160H180v160Zm440 0h160v-160H620v160Z\"/>\n",
              "  </svg>\n",
              "    </button>\n",
              "\n",
              "  <style>\n",
              "    .colab-df-container {\n",
              "      display:flex;\n",
              "      gap: 12px;\n",
              "    }\n",
              "\n",
              "    .colab-df-convert {\n",
              "      background-color: #E8F0FE;\n",
              "      border: none;\n",
              "      border-radius: 50%;\n",
              "      cursor: pointer;\n",
              "      display: none;\n",
              "      fill: #1967D2;\n",
              "      height: 32px;\n",
              "      padding: 0 0 0 0;\n",
              "      width: 32px;\n",
              "    }\n",
              "\n",
              "    .colab-df-convert:hover {\n",
              "      background-color: #E2EBFA;\n",
              "      box-shadow: 0px 1px 2px rgba(60, 64, 67, 0.3), 0px 1px 3px 1px rgba(60, 64, 67, 0.15);\n",
              "      fill: #174EA6;\n",
              "    }\n",
              "\n",
              "    .colab-df-buttons div {\n",
              "      margin-bottom: 4px;\n",
              "    }\n",
              "\n",
              "    [theme=dark] .colab-df-convert {\n",
              "      background-color: #3B4455;\n",
              "      fill: #D2E3FC;\n",
              "    }\n",
              "\n",
              "    [theme=dark] .colab-df-convert:hover {\n",
              "      background-color: #434B5C;\n",
              "      box-shadow: 0px 1px 3px 1px rgba(0, 0, 0, 0.15);\n",
              "      filter: drop-shadow(0px 1px 2px rgba(0, 0, 0, 0.3));\n",
              "      fill: #FFFFFF;\n",
              "    }\n",
              "  </style>\n",
              "\n",
              "    <script>\n",
              "      const buttonEl =\n",
              "        document.querySelector('#df-1d71e77f-19a2-44a9-8946-9f8987d740f9 button.colab-df-convert');\n",
              "      buttonEl.style.display =\n",
              "        google.colab.kernel.accessAllowed ? 'block' : 'none';\n",
              "\n",
              "      async function convertToInteractive(key) {\n",
              "        const element = document.querySelector('#df-1d71e77f-19a2-44a9-8946-9f8987d740f9');\n",
              "        const dataTable =\n",
              "          await google.colab.kernel.invokeFunction('convertToInteractive',\n",
              "                                                    [key], {});\n",
              "        if (!dataTable) return;\n",
              "\n",
              "        const docLinkHtml = 'Like what you see? Visit the ' +\n",
              "          '<a target=\"_blank\" href=https://colab.research.google.com/notebooks/data_table.ipynb>data table notebook</a>'\n",
              "          + ' to learn more about interactive tables.';\n",
              "        element.innerHTML = '';\n",
              "        dataTable['output_type'] = 'display_data';\n",
              "        await google.colab.output.renderOutput(dataTable, element);\n",
              "        const docLink = document.createElement('div');\n",
              "        docLink.innerHTML = docLinkHtml;\n",
              "        element.appendChild(docLink);\n",
              "      }\n",
              "    </script>\n",
              "  </div>\n",
              "\n",
              "\n",
              "<div id=\"df-d2a2eb09-83c4-4643-9755-c0b2725518bd\">\n",
              "  <button class=\"colab-df-quickchart\" onclick=\"quickchart('df-d2a2eb09-83c4-4643-9755-c0b2725518bd')\"\n",
              "            title=\"Suggest charts\"\n",
              "            style=\"display:none;\">\n",
              "\n",
              "<svg xmlns=\"http://www.w3.org/2000/svg\" height=\"24px\"viewBox=\"0 0 24 24\"\n",
              "     width=\"24px\">\n",
              "    <g>\n",
              "        <path d=\"M19 3H5c-1.1 0-2 .9-2 2v14c0 1.1.9 2 2 2h14c1.1 0 2-.9 2-2V5c0-1.1-.9-2-2-2zM9 17H7v-7h2v7zm4 0h-2V7h2v10zm4 0h-2v-4h2v4z\"/>\n",
              "    </g>\n",
              "</svg>\n",
              "  </button>\n",
              "\n",
              "<style>\n",
              "  .colab-df-quickchart {\n",
              "      --bg-color: #E8F0FE;\n",
              "      --fill-color: #1967D2;\n",
              "      --hover-bg-color: #E2EBFA;\n",
              "      --hover-fill-color: #174EA6;\n",
              "      --disabled-fill-color: #AAA;\n",
              "      --disabled-bg-color: #DDD;\n",
              "  }\n",
              "\n",
              "  [theme=dark] .colab-df-quickchart {\n",
              "      --bg-color: #3B4455;\n",
              "      --fill-color: #D2E3FC;\n",
              "      --hover-bg-color: #434B5C;\n",
              "      --hover-fill-color: #FFFFFF;\n",
              "      --disabled-bg-color: #3B4455;\n",
              "      --disabled-fill-color: #666;\n",
              "  }\n",
              "\n",
              "  .colab-df-quickchart {\n",
              "    background-color: var(--bg-color);\n",
              "    border: none;\n",
              "    border-radius: 50%;\n",
              "    cursor: pointer;\n",
              "    display: none;\n",
              "    fill: var(--fill-color);\n",
              "    height: 32px;\n",
              "    padding: 0;\n",
              "    width: 32px;\n",
              "  }\n",
              "\n",
              "  .colab-df-quickchart:hover {\n",
              "    background-color: var(--hover-bg-color);\n",
              "    box-shadow: 0 1px 2px rgba(60, 64, 67, 0.3), 0 1px 3px 1px rgba(60, 64, 67, 0.15);\n",
              "    fill: var(--button-hover-fill-color);\n",
              "  }\n",
              "\n",
              "  .colab-df-quickchart-complete:disabled,\n",
              "  .colab-df-quickchart-complete:disabled:hover {\n",
              "    background-color: var(--disabled-bg-color);\n",
              "    fill: var(--disabled-fill-color);\n",
              "    box-shadow: none;\n",
              "  }\n",
              "\n",
              "  .colab-df-spinner {\n",
              "    border: 2px solid var(--fill-color);\n",
              "    border-color: transparent;\n",
              "    border-bottom-color: var(--fill-color);\n",
              "    animation:\n",
              "      spin 1s steps(1) infinite;\n",
              "  }\n",
              "\n",
              "  @keyframes spin {\n",
              "    0% {\n",
              "      border-color: transparent;\n",
              "      border-bottom-color: var(--fill-color);\n",
              "      border-left-color: var(--fill-color);\n",
              "    }\n",
              "    20% {\n",
              "      border-color: transparent;\n",
              "      border-left-color: var(--fill-color);\n",
              "      border-top-color: var(--fill-color);\n",
              "    }\n",
              "    30% {\n",
              "      border-color: transparent;\n",
              "      border-left-color: var(--fill-color);\n",
              "      border-top-color: var(--fill-color);\n",
              "      border-right-color: var(--fill-color);\n",
              "    }\n",
              "    40% {\n",
              "      border-color: transparent;\n",
              "      border-right-color: var(--fill-color);\n",
              "      border-top-color: var(--fill-color);\n",
              "    }\n",
              "    60% {\n",
              "      border-color: transparent;\n",
              "      border-right-color: var(--fill-color);\n",
              "    }\n",
              "    80% {\n",
              "      border-color: transparent;\n",
              "      border-right-color: var(--fill-color);\n",
              "      border-bottom-color: var(--fill-color);\n",
              "    }\n",
              "    90% {\n",
              "      border-color: transparent;\n",
              "      border-bottom-color: var(--fill-color);\n",
              "    }\n",
              "  }\n",
              "</style>\n",
              "\n",
              "  <script>\n",
              "    async function quickchart(key) {\n",
              "      const quickchartButtonEl =\n",
              "        document.querySelector('#' + key + ' button');\n",
              "      quickchartButtonEl.disabled = true;  // To prevent multiple clicks.\n",
              "      quickchartButtonEl.classList.add('colab-df-spinner');\n",
              "      try {\n",
              "        const charts = await google.colab.kernel.invokeFunction(\n",
              "            'suggestCharts', [key], {});\n",
              "      } catch (error) {\n",
              "        console.error('Error during call to suggestCharts:', error);\n",
              "      }\n",
              "      quickchartButtonEl.classList.remove('colab-df-spinner');\n",
              "      quickchartButtonEl.classList.add('colab-df-quickchart-complete');\n",
              "    }\n",
              "    (() => {\n",
              "      let quickchartButtonEl =\n",
              "        document.querySelector('#df-d2a2eb09-83c4-4643-9755-c0b2725518bd button');\n",
              "      quickchartButtonEl.style.display =\n",
              "        google.colab.kernel.accessAllowed ? 'block' : 'none';\n",
              "    })();\n",
              "  </script>\n",
              "</div>\n",
              "    </div>\n",
              "  </div>\n"
            ],
            "application/vnd.google.colaboratory.intrinsic+json": {
              "type": "dataframe",
              "variable_name": "df",
              "summary": "{\n  \"name\": \"df\",\n  \"rows\": 33444,\n  \"fields\": [\n    {\n      \"column\": \"UserName\",\n      \"properties\": {\n        \"dtype\": \"number\",\n        \"std\": 11875,\n        \"min\": 3800,\n        \"max\": 44955,\n        \"num_unique_values\": 33444,\n        \"samples\": [\n          33995,\n          17124,\n          18421\n        ],\n        \"semantic_type\": \"\",\n        \"description\": \"\"\n      }\n    },\n    {\n      \"column\": \"ScreenName\",\n      \"properties\": {\n        \"dtype\": \"number\",\n        \"std\": 11875,\n        \"min\": 48752,\n        \"max\": 89907,\n        \"num_unique_values\": 33444,\n        \"samples\": [\n          78947,\n          62076,\n          63373\n        ],\n        \"semantic_type\": \"\",\n        \"description\": \"\"\n      }\n    },\n    {\n      \"column\": \"Location\",\n      \"properties\": {\n        \"dtype\": \"category\",\n        \"num_unique_values\": 10465,\n        \"samples\": [\n          \"Kitchener | Ontario | Canada\",\n          \"Montr\\u00c3\\u0083\\u00c2\\u00a9al\",\n          \"England. Germany.\"\n        ],\n        \"semantic_type\": \"\",\n        \"description\": \"\"\n      }\n    },\n    {\n      \"column\": \"TweetAt\",\n      \"properties\": {\n        \"dtype\": \"object\",\n        \"num_unique_values\": 30,\n        \"samples\": [\n          \"12-04-2020\",\n          \"31-03-2020\",\n          \"08-04-2020\"\n        ],\n        \"semantic_type\": \"\",\n        \"description\": \"\"\n      }\n    },\n    {\n      \"column\": \"OriginalTweet\",\n      \"properties\": {\n        \"dtype\": \"string\",\n        \"num_unique_values\": 33444,\n        \"samples\": [\n          \"US death toll is way less than estimated. This I hope will bring back consumer confidence #coronavirus #Covid_19 #CoronavirusUSA\",\n          \"We will get through this by people helping people and not stock piling food and toiletries, selfish pricks #Covid_19\",\n          \"#rice prices soar to two-year high, traders blame it on #coronavirus panic buying, writes #YasirWardad https://t.co/hIXzS1DKdo #FE via @febdonline\"\n        ],\n        \"semantic_type\": \"\",\n        \"description\": \"\"\n      }\n    },\n    {\n      \"column\": \"Sentiment\",\n      \"properties\": {\n        \"dtype\": \"number\",\n        \"std\": 0,\n        \"min\": 0,\n        \"max\": 1,\n        \"num_unique_values\": 2,\n        \"samples\": [\n          0,\n          1\n        ],\n        \"semantic_type\": \"\",\n        \"description\": \"\"\n      }\n    }\n  ]\n}"
            }
          },
          "metadata": {},
          "execution_count": 8
        }
      ],
      "source": [
        "df['Sentiment'].unique() # ['Positive' 'Extremely Negative' 'Negative' 'Extremely Positive']\n",
        "\n",
        "df['Sentiment'] = [1 if 'Positive' in sentiment else 0 for sentiment in df['Sentiment']]\n",
        "df.head(4)"
      ]
    },
    {
      "cell_type": "markdown",
      "metadata": {
        "id": "pGq1FxJ-kBo5"
      },
      "source": [
        "Сбалансированы ли классы?"
      ]
    },
    {
      "cell_type": "code",
      "execution_count": null,
      "metadata": {
        "colab": {
          "base_uri": "https://localhost:8080/"
        },
        "id": "a7gdNtxckK5V",
        "outputId": "27cbf3fa-40e9-4811-ce7e-9ac6386fc289"
      },
      "outputs": [
        {
          "output_type": "execute_result",
          "data": {
            "text/plain": [
              "Sentiment\n",
              "1    18046\n",
              "0    15398\n",
              "Name: count, dtype: int64"
            ]
          },
          "metadata": {},
          "execution_count": 9
        }
      ],
      "source": [
        "df['Sentiment'].value_counts()"
      ]
    },
    {
      "cell_type": "markdown",
      "metadata": {
        "id": "Ng8BCelMkWb0"
      },
      "source": [
        "Классы весьма сбалансированы. Разница в 2648 твитов незначительная при таком количестве объектов."
      ]
    },
    {
      "cell_type": "markdown",
      "metadata": {
        "id": "qmSIBSsLk5Zz"
      },
      "source": [
        "Выведем на экран информацию о пропусках в данных. Если пропуски присутствуют, заполним их строкой 'Unknown'."
      ]
    },
    {
      "cell_type": "code",
      "execution_count": null,
      "metadata": {
        "colab": {
          "base_uri": "https://localhost:8080/"
        },
        "id": "UhUVRkR5kxa7",
        "outputId": "15aea408-7139-4bf6-c2ef-64c9dfdc7a7d"
      },
      "outputs": [
        {
          "output_type": "execute_result",
          "data": {
            "text/plain": [
              "False"
            ]
          },
          "metadata": {},
          "execution_count": 10
        }
      ],
      "source": [
        "df.isna().any() # Location -- True, остальные False\n",
        "df['Location'] = ['Unknown' if pd.isna(location) else location for location in df['Location']]\n",
        "df.isna().any().any() # False"
      ]
    },
    {
      "cell_type": "markdown",
      "metadata": {
        "id": "1tzt27tfjUpq"
      },
      "source": [
        "Разделим данные на обучающие и тестовые в соотношении 7 : 3 и `random_state=0`"
      ]
    },
    {
      "cell_type": "code",
      "execution_count": null,
      "metadata": {
        "id": "xSLOA9tIj9Z6"
      },
      "outputs": [],
      "source": [
        "from sklearn.model_selection import train_test_split\n",
        "\n",
        "train, test = train_test_split(df, test_size=0.3, random_state=0)\n",
        "# test_size=0.3 указывает, что 30% данных будут использоваться для тестовой выборки,\n",
        "# а оставшиеся 70% — для обучающей выборки."
      ]
    },
    {
      "cell_type": "markdown",
      "metadata": {
        "id": "J9RrPUsJlL60"
      },
      "source": [
        "## Токенизация"
      ]
    },
    {
      "cell_type": "markdown",
      "metadata": {
        "id": "2Dz_b7Xopc_R"
      },
      "source": [
        "Построем словарь на основе обучающей выборки и посчитаем количество встреч каждого токена с использованием самой простой токенизации - деления текстов по пробельным символам и приведение токенов в нижний регистр"
      ]
    },
    {
      "cell_type": "code",
      "execution_count": null,
      "metadata": {
        "id": "SFr67WOJphny"
      },
      "outputs": [],
      "source": [
        "import re # модуль, предназначенный для работы с регулярными выражениями\n",
        "from collections import Counter # Counter -- подкласс словаря dict\n",
        "\n",
        "# Функция для токенизации текста\n",
        "def simple_tokenize(text):\n",
        "    # Убираем знаки пунктуации\n",
        "    text = re.sub(r'[^\\w\\s]', '', text)\n",
        "\n",
        "    # Приводим каждое слово к нижнему регистру и делим по пробелу,\n",
        "    # записывая в список tokens\n",
        "    tokens = text.lower().split()\n",
        "    # split разделяет строку по любому количеству пробелов, табуляции или переводов строк\n",
        "    return tokens\n",
        "\n",
        "word_counts = Counter()\n",
        "\n",
        "# Подсчет слов из твитов в обучающей выборке\n",
        "for tweet in train['OriginalTweet']:\n",
        "    word_counts.update(simple_tokenize(tweet))"
      ]
    },
    {
      "cell_type": "markdown",
      "source": [
        "re.sub() -- это функция, которая заменяет части строки text, равные регулярному выражению r'[^\\w\\s]' на пустую строку, тем самым удаляя символы, обозначенные регулярным выражением.\n",
        "\n",
        "Теперь разберем регулярное выражение r'[^\\w\\s]':\n",
        "1.   r перед строкой указывает, что это \"сырая\" строка (raw string) для того, чтобы не воспринимать обратные слеши как начало специального символа.\n",
        "2.   Шаблон [^\\w\\s] описывает класс символов, который включает в себя все символы, кроме тех, что указаны в скобках\n",
        "3. \\w эквивалентно [a-zA-Z0-9_].\n",
        "4. \\s соответствует любому пробельному символу\n",
        "5. В начале класса символов ^ означает отрицание.\n",
        "\n",
        "Таким образом, [^\\w\\s] соответствует любому символу, который не является буквой, цифрой, подчеркиванием или пробельным символом.\n",
        "\n",
        "\n"
      ],
      "metadata": {
        "id": "JSjn-ijNc8Lm"
      }
    },
    {
      "cell_type": "markdown",
      "metadata": {
        "id": "Pe0h2Jqkpnao"
      },
      "source": [
        "Какой размер словаря получился?"
      ]
    },
    {
      "cell_type": "code",
      "execution_count": null,
      "metadata": {
        "id": "umyENA7EpokD",
        "colab": {
          "base_uri": "https://localhost:8080/"
        },
        "outputId": "b1272ebe-4cb2-4fc6-a649-1a47975156da"
      },
      "outputs": [
        {
          "output_type": "execute_result",
          "data": {
            "text/plain": [
              "56942"
            ]
          },
          "metadata": {},
          "execution_count": 13
        }
      ],
      "source": [
        "len(word_counts)"
      ]
    },
    {
      "cell_type": "markdown",
      "source": [
        "Размер словаря: 56942"
      ],
      "metadata": {
        "id": "qMZsgLKqjBx-"
      }
    },
    {
      "cell_type": "markdown",
      "metadata": {
        "id": "0d2G1Z-Qpqkd"
      },
      "source": [
        "Выведем 10 самых популярных токенов с количеством встреч каждого из них. Проанализируем, почему именно эти токены в топе."
      ]
    },
    {
      "cell_type": "code",
      "execution_count": null,
      "metadata": {
        "id": "Impi32a_pssg",
        "colab": {
          "base_uri": "https://localhost:8080/"
        },
        "outputId": "c76def17-0415-4335-b6b1-afb5c307e3dd"
      },
      "outputs": [
        {
          "output_type": "execute_result",
          "data": {
            "text/plain": [
              "[('the', 26906),\n",
              " ('to', 23461),\n",
              " ('and', 14763),\n",
              " ('of', 13041),\n",
              " ('a', 11802),\n",
              " ('in', 11326),\n",
              " ('coronavirus', 9916),\n",
              " ('for', 8614),\n",
              " ('covid19', 7590),\n",
              " ('is', 7452)]"
            ]
          },
          "metadata": {},
          "execution_count": 14
        }
      ],
      "source": [
        "word_counts.most_common(10)"
      ]
    },
    {
      "cell_type": "markdown",
      "metadata": {
        "id": "ZtuJCD0ApuFd"
      },
      "source": [
        "Разделим самые частовстречающиеся слова на две группы. Первая -- это артикли, предлоги, союз and, глагол is. Вторая: coronavirus и covid19.\n",
        "\n",
        "Слова из первой группы будут самыми частовстречающимеся в большинстве английских текстов, потому что являются часто употребимыми для связи слов в предложения, для постановки грамотной речи.\n",
        "\n",
        "Слова второй группы относятся к теме твитов. Это очевидно, что в твитах про коронавирус будут часто встречаться слова coronavirus и covid19."
      ]
    },
    {
      "cell_type": "markdown",
      "metadata": {
        "id": "T7DTQDkWsVYp"
      },
      "source": [
        "Удалим стоп-слова из словаря и выведите новый топ-10 токенов (и количество встреч) по популярности."
      ]
    },
    {
      "cell_type": "markdown",
      "source": [
        "Стоп-слова — это слова, которые часто встречаются в языке, но не несут значимой информации. Слова из первой группы выше -- это стоп-слова."
      ],
      "metadata": {
        "id": "2y3-cjnEknEP"
      }
    },
    {
      "cell_type": "code",
      "execution_count": null,
      "metadata": {
        "id": "8csSAdgTsnFx",
        "colab": {
          "base_uri": "https://localhost:8080/"
        },
        "outputId": "04887103-4726-4b7e-f911-8823dfd65a64"
      },
      "outputs": [
        {
          "output_type": "stream",
          "name": "stderr",
          "text": [
            "[nltk_data] Downloading package stopwords to /root/nltk_data...\n",
            "[nltk_data]   Unzipping corpora/stopwords.zip.\n"
          ]
        },
        {
          "output_type": "execute_result",
          "data": {
            "text/plain": [
              "[('coronavirus', 9916),\n",
              " ('covid19', 7590),\n",
              " ('prices', 4605),\n",
              " ('food', 4475),\n",
              " ('supermarket', 3966),\n",
              " ('store', 3853),\n",
              " ('grocery', 3581),\n",
              " ('people', 3443),\n",
              " ('amp', 3180),\n",
              " ('consumer', 2416)]"
            ]
          },
          "metadata": {},
          "execution_count": 15
        }
      ],
      "source": [
        "import nltk\n",
        "from nltk.corpus import stopwords\n",
        "\n",
        "# Загрузка списка стоп-слов для английского языка\n",
        "nltk.download('stopwords')\n",
        "stop_words = set(stopwords.words('english'))\n",
        "\n",
        "word_counts = Counter({word: count for word, count in word_counts.items() if word not in stop_words})\n",
        "word_counts.most_common(10)"
      ]
    },
    {
      "cell_type": "markdown",
      "metadata": {
        "id": "LZH0x2Lzs-Dh"
      },
      "source": [
        "Этот набор уже более информативен. Мы видим, что людей беспокоила обстановка с ценами, доступность продуктов в супермаркетах.\n",
        "\n",
        "people -- общее слово, которое может использоваться в различных контекстах.\n",
        "\n",
        "Также в твитах упоминается COVID-19 AMP -- диагностическая тест-система для выявления коронавируса\n",
        "\n",
        "Употребление слова consumer может обозначать обсуждение реакции потребителей на меры, связанные с коронавирусом.\n",
        "\n",
        "Удаление стоп-слов помогло выявить наиболее важные темы и слова, которые действительно отражают основные аспекты дискуссий вокруг пандемии. Предобработка текста позволяет лучше понять, что конкретно беспокоит или интересует людей, исключая общие слова, которые могут мешать анализу."
      ]
    },
    {
      "cell_type": "markdown",
      "metadata": {
        "id": "TKSGRyI-uor0"
      },
      "source": [
        "Также выведем 20 самых непопулярных слов (если самых непопулярных слов больше, выведем любые 20 из них)."
      ]
    },
    {
      "cell_type": "code",
      "execution_count": null,
      "metadata": {
        "id": "moArbwfvun9t",
        "colab": {
          "base_uri": "https://localhost:8080/"
        },
        "outputId": "95eaac76-1e8d-476d-b66d-53318ef678ac"
      },
      "outputs": [
        {
          "output_type": "execute_result",
          "data": {
            "text/plain": [
              "[('httpstcolw1r0rm7xs', 1),\n",
              " ('httpstco5cbliqzx7l', 1),\n",
              " ('nowwhen', 1),\n",
              " ('milion', 1),\n",
              " ('skellig', 1),\n",
              " ('skelligsix18', 1),\n",
              " ('skelligcoast2kms', 1),\n",
              " ('southkerry', 1),\n",
              " ('httpstcozjcl195vqs', 1),\n",
              " ('srinivasiyc', 1),\n",
              " ('httpstcoiaek4fwsgz', 1),\n",
              " ('premiership', 1),\n",
              " ('nonplaying', 1),\n",
              " ('subsidise', 1),\n",
              " ('playersãâ', 1),\n",
              " ('renewing', 1),\n",
              " ('flew', 1),\n",
              " ('torontopearson', 1),\n",
              " ('680news', 1),\n",
              " ('httpstco7j2y3rsld9', 1)]"
            ]
          },
          "metadata": {},
          "execution_count": 16
        }
      ],
      "source": [
        "word_counts.most_common()[-20:]"
      ]
    },
    {
      "cell_type": "markdown",
      "metadata": {
        "id": "uRp3J1gQunlR"
      },
      "source": [
        "Эта подборка содержит \"случайно попавшие\" слова, которые не несут смысловой нагрузки: слова с ошибками; возможно, упоминания других юзеров или сайтов. Отдельно работать с такими словами нет смысла.\n",
        "\n"
      ]
    },
    {
      "cell_type": "markdown",
      "metadata": {
        "id": "wx9LQOSPzvjV"
      },
      "source": [
        "Теперь воспользуемся токенайзером получше - TweetTokenizer из библиотеки nltk. Применим его и посмотрим на топ-10 популярных слов."
      ]
    },
    {
      "cell_type": "code",
      "execution_count": null,
      "metadata": {
        "id": "2G1UkyVxzvFY",
        "colab": {
          "base_uri": "https://localhost:8080/"
        },
        "outputId": "e79aa1e6-e94a-4458-dae6-6f3319d90f7e"
      },
      "outputs": [
        {
          "output_type": "execute_result",
          "data": {
            "text/plain": [
              "[('the', 26993),\n",
              " ('.', 24118),\n",
              " ('to', 23478),\n",
              " (',', 17571),\n",
              " ('and', 14825),\n",
              " ('of', 13044),\n",
              " ('a', 11891),\n",
              " ('in', 11348),\n",
              " ('?', 9524),\n",
              " ('#coronavirus', 8808)]"
            ]
          },
          "metadata": {},
          "execution_count": 17
        }
      ],
      "source": [
        "from nltk.tokenize import TweetTokenizer\n",
        "\n",
        "tokenizer = TweetTokenizer()\n",
        "word_counts_new = Counter()\n",
        "\n",
        "for tweet in train['OriginalTweet']:\n",
        "  word_counts_new.update(tokenizer.tokenize(tweet.lower()))\n",
        "\n",
        "word_counts_new.most_common(10)"
      ]
    },
    {
      "cell_type": "markdown",
      "metadata": {
        "id": "50eVUnJN1Zxl"
      },
      "source": [
        "TweetTokenizer отделяет знаки препинания от слов и считает их отдельными токенами. С базовой настройкой TweetTokenizer не фильтрует знаки препинания, что делает полученные данные неинформативными для анализа.\n",
        "\n",
        "Стоит заметить, что в варианте выше 'coronavirus' имеет 9916 упоминаний, а здесь не указано отдельно слово, но есть #coronavirus' с упоминание 8808 раз.\n",
        "\n",
        "simple_tokenize (мною написанная функция) убирает все знаки препинания, в том числе '#'. В результате все упоминания \"coronavirus\", вне зависимости от того, были ли они частью хэштега или нет, считаются одинаково. Это приводит к большему количеству упоминаний.\n",
        "\n",
        "С TweetTokenizer \"#coronavirus\" считается отдельным токеном и не суммируется с упоминаниями \"coronavirus\".\n",
        "\n",
        "\n",
        "\n"
      ]
    },
    {
      "cell_type": "markdown",
      "metadata": {
        "id": "1gqQgiMs11bs"
      },
      "source": [
        "Удалим из словаря стоп-слова и пунктуацию, посмотрим на новый топ-10 слов с количеством встреч."
      ]
    },
    {
      "cell_type": "code",
      "execution_count": null,
      "metadata": {
        "id": "0yHWdFrp0Mup",
        "colab": {
          "base_uri": "https://localhost:8080/"
        },
        "outputId": "55c590c0-c417-4397-bd75-d21645399bbc"
      },
      "outputs": [
        {
          "output_type": "execute_result",
          "data": {
            "text/plain": [
              "[('#coronavirus', 8808),\n",
              " ('â', 7415),\n",
              " ('\\x82', 7311),\n",
              " ('19', 7167),\n",
              " ('covid', 6253),\n",
              " ('prices', 4601),\n",
              " ('\\x92', 4372),\n",
              " ('food', 4367),\n",
              " ('store', 3877),\n",
              " ('supermarket', 3805)]"
            ]
          },
          "metadata": {},
          "execution_count": 18
        }
      ],
      "source": [
        "from string import punctuation\n",
        "\n",
        "word_counts_new = Counter({word: count for word, count in word_counts_new.items() if word not in stop_words and word not in punctuation})\n",
        "word_counts_new.most_common(10)"
      ]
    },
    {
      "cell_type": "markdown",
      "metadata": {
        "id": "8ZJqXELP_Yxy"
      },
      "source": [
        "В словаре по-прежнему есть странные экземпляры: 'â', '\\x82', '\\x92'. Возможно, для некоторых твитов была использована неправильная кодировка, или же это может быть отображение эмодзи, которые часто встречаются в твитах."
      ]
    },
    {
      "cell_type": "markdown",
      "metadata": {
        "id": "rzXjMsSB_kXB"
      },
      "source": [
        "Удалим из словаря токены из одного символа, с позицией в таблице Unicode 128 и более (`ord(x) >= 128`)\n",
        "\n",
        "Выведем топ-10 самых популярных и топ-20 непопулярных слов."
      ]
    },
    {
      "cell_type": "code",
      "execution_count": null,
      "metadata": {
        "id": "1695hlkS_1-J",
        "colab": {
          "base_uri": "https://localhost:8080/"
        },
        "outputId": "2857a4bc-cdff-4896-d992-46a38e4bad8a"
      },
      "outputs": [
        {
          "output_type": "stream",
          "name": "stdout",
          "text": [
            "[('#coronavirus', 8808), ('19', 7167), ('covid', 6253), ('prices', 4601), ('food', 4367), ('store', 3877), ('supermarket', 3805), ('grocery', 3523), ('people', 3463), ('#covid19', 2589)]\n",
            "[('https://t.co/lw1r0rm7xs', 1), ('https://t.co/5cbliqzx7l', 1), ('now.when', 1), ('milion', 1), ('skellig', 1), ('@skelligsix18', 1), ('#skelligcoast2kms', 1), ('#southkerry', 1), ('https://t.co/zjcl195vqs', 1), ('@srinivasiyc', 1), ('https://t.co/iaek4fwsgz', 1), ('premiership', 1), ('non-playing', 1), ('subsidise', 1), ('playersã', 1), ('renewing', 1), ('flew', 1), ('@torontopearson', 1), ('@680news', 1), ('https://t.co/7j2y3rsld9', 1)]\n"
          ]
        }
      ],
      "source": [
        "word_counts_new = Counter({word: count for word, count in word_counts_new.items() if len(word) != 1 or ord(word[0]) < 128})\n",
        "print(word_counts_new.most_common(10))\n",
        "print(word_counts_new.most_common()[-20:])"
      ]
    },
    {
      "cell_type": "markdown",
      "metadata": {
        "id": "KzjHAKIlDvc6"
      },
      "source": [
        "Мне кажется собственная токенизация более информативной, потому что там, например, не выделилось как отдельное слово \"19\", а ведь оно действительно используется в основном в контексте \"covid19\".\n",
        "\n",
        "\"covid19\" и \"#covid19\" я бы тоже объединила, потому что обе эти записи имеют одинаковое значение. Но, возможно, разделение поможет при анализе дальше. Посмотрим :)\n",
        "\n",
        "Топ-20 с конца как был странным, так и остался. Там много ссылок, которые можно проанализировать, если перейти по самым популярным (если такие имеются)."
      ]
    },
    {
      "cell_type": "markdown",
      "metadata": {
        "id": "EcDf9_6HB2zm"
      },
      "source": [
        "Выведем топ-10 популярных хештегов с количеством встреч."
      ]
    },
    {
      "cell_type": "code",
      "execution_count": null,
      "metadata": {
        "id": "zk4fygCUBw3l",
        "colab": {
          "base_uri": "https://localhost:8080/"
        },
        "outputId": "1bdeebff-1bb0-49c4-8eac-f274d51b4235"
      },
      "outputs": [
        {
          "output_type": "execute_result",
          "data": {
            "text/plain": [
              "[('#coronavirus', 8808),\n",
              " ('#covid19', 2589),\n",
              " ('#covid_19', 1734),\n",
              " ('#covid2019', 946),\n",
              " ('#toiletpaper', 744),\n",
              " ('#covid', 641),\n",
              " ('#socialdistancing', 465),\n",
              " ('#coronacrisis', 448),\n",
              " ('#pandemic', 257),\n",
              " ('#coronaviruspandemic', 249)]"
            ]
          },
          "metadata": {},
          "execution_count": 20
        }
      ],
      "source": [
        "hashtags = Counter({word: count for word, count in word_counts_new.items() if '#' in word})\n",
        "hashtags.most_common(10)"
      ]
    },
    {
      "cell_type": "markdown",
      "metadata": {
        "id": "-6NeNWBkDxM7"
      },
      "source": [
        "Большая часть хэштегов включает слова covid или corona(virus) что логично, ведь это ключевое слово в данной теме.\n",
        "\n",
        "Видимо, людей беспокоил или забавил ажиотаж вокруг туалетной бумаги во время ковида, когда все запасались самым необходимым :)\n",
        "\n",
        "Также темой для обсуждения было соблюдение социальной дистанции.\n",
        "\n",
        "Хэштеги хорошо отражают наполнение твитов и могут выдать полезную для анализа информацию."
      ]
    },
    {
      "cell_type": "markdown",
      "metadata": {
        "id": "LLYBg7caD5GA"
      },
      "source": [
        "То же самое проделаем для ссылок на сайт https://t.co"
      ]
    },
    {
      "cell_type": "code",
      "execution_count": null,
      "metadata": {
        "id": "MXbm1oeaCK9S",
        "colab": {
          "base_uri": "https://localhost:8080/"
        },
        "outputId": "42a6ae46-7efb-4ee9-e01b-110d0a73818e"
      },
      "outputs": [
        {
          "output_type": "execute_result",
          "data": {
            "text/plain": [
              "[('https://t.co/oxa7swtond', 5),\n",
              " ('https://t.co/gp3eusapl8', 4),\n",
              " ('https://t.co/deftrui1pfã\\x82â', 3),\n",
              " ('https://t.co/wrlhyzizaa', 3),\n",
              " ('https://t.co/kuwipf1kqw', 3),\n",
              " ('https://t.co/zjnrx6dkkn', 3),\n",
              " ('https://t.co/3gbbdpdjat', 3),\n",
              " ('https://t.co/e2znxajpre', 3),\n",
              " ('https://t.co/catkegayoy', 3),\n",
              " ('https://t.co/g63rp042ho', 3)]"
            ]
          },
          "metadata": {},
          "execution_count": 21
        }
      ],
      "source": [
        "links = Counter({word: count for word, count in word_counts_new.items() if 'https://t.co' in word})\n",
        "links.most_common(10)"
      ]
    },
    {
      "cell_type": "markdown",
      "metadata": {
        "id": "at6lRYZ8A07N"
      },
      "source": [
        "Популярность ссылок несравнима с популярностью хэштегов, поэтому их можно неанализировать: на такой большой выборке количество упоминаний 4 и 5 очень мало."
      ]
    },
    {
      "cell_type": "markdown",
      "metadata": {
        "id": "IOGdUU1kBU1D"
      },
      "source": [
        "Используем опыт предыдущих экспериментов и напишем собственный токенайзер, улучшив TweetTokenizer. Функция tokenize должна:\n",
        "\n",
        "\n",
        "\n",
        "*   Привести текст в нижний регистр\n",
        "*   Применить TweetTokenizer для изначального выделения токенов\n",
        "*   Удалить стоп-слова, пунктуацию, токены из одного символа, с позицией в таблице Unicode 128 и более и ссылки на t.co\n",
        "\n"
      ]
    },
    {
      "cell_type": "code",
      "execution_count": null,
      "metadata": {
        "id": "ctEsB6xkFrrK"
      },
      "outputs": [],
      "source": [
        "def custom_tokenizer(text):\n",
        "\n",
        "  text = text.lower()\n",
        "  tokens = TweetTokenizer().tokenize(text)\n",
        "  tokens = [token for token in tokens if token not in stop_words and token not in punctuation and\n",
        "             (len(token) != 1 or ord(token[0]) < 128) and 'https://t.co' not in token[:12]]\n",
        "\n",
        "  return tokens"
      ]
    },
    {
      "cell_type": "code",
      "execution_count": null,
      "metadata": {
        "colab": {
          "base_uri": "https://localhost:8080/"
        },
        "id": "XwbgtYkJGYym",
        "outputId": "39a42918-7cfd-469b-9bc9-474c81aeb8fa"
      },
      "outputs": [
        {
          "output_type": "execute_result",
          "data": {
            "text/plain": [
              "['sample', 'text', '@sample_text', '#sampletext']"
            ]
          },
          "metadata": {},
          "execution_count": 23
        }
      ],
      "source": [
        "custom_tokenizer('This is sample text!!!! @Sample_text I, \\x92\\x92 https://t.co/sample  #sampletext')"
      ]
    },
    {
      "cell_type": "markdown",
      "metadata": {
        "id": "wURVABmXHk97"
      },
      "source": [
        "## Векторизация текстов"
      ]
    },
    {
      "cell_type": "markdown",
      "metadata": {
        "id": "H44iXkoHIQfN"
      },
      "source": [
        "Обучим CountVectorizer с использованием custom_tokenizer в качестве токенайзера."
      ]
    },
    {
      "cell_type": "code",
      "execution_count": null,
      "metadata": {
        "colab": {
          "base_uri": "https://localhost:8080/"
        },
        "id": "gHn_limQl3BI",
        "outputId": "94b2c363-c48c-4312-b959-530effd256c1"
      },
      "outputs": [
        {
          "output_type": "stream",
          "name": "stderr",
          "text": [
            "/usr/local/lib/python3.10/dist-packages/sklearn/feature_extraction/text.py:528: UserWarning: The parameter 'token_pattern' will not be used since 'tokenizer' is not None'\n",
            "  warnings.warn(\n"
          ]
        },
        {
          "output_type": "stream",
          "name": "stdout",
          "text": [
            "45308\n"
          ]
        }
      ],
      "source": [
        "from sklearn.feature_extraction.text import CountVectorizer\n",
        "# CountVectorizer — это своего рода счётчик слов, который помогает анализировать тексты\n",
        "\n",
        "cv = CountVectorizer(tokenizer=custom_tokenizer)\n",
        "cv.fit(train['OriginalTweet'])\n",
        "# Сначала CountVectorizer разбивает текст на слова, используя custom_tokenizer.\n",
        "# Затем он подсчитывает, сколько раз каждое слово встречается в каждом твите.\n",
        "\n",
        "print(len(cv.vocabulary_))"
      ]
    },
    {
      "cell_type": "markdown",
      "source": [
        "CountVectorizer сделает матрицу, в которой количество строк совпадает с количеством твитов, а число столбцов совпадает с числом различных токенов. И в ячейке матрицы будет указано, сколько раз соответствующий токен встречается в соответствующем твите (в том числе, там может стоять 0). Сумма значений во всех ячейках совпадает с общим числом токенов.\n",
        "\n",
        "CountVectorizer является частью библиотеки scikit-learn, поэтому его легко интегрировать с другими компонентами этой библиотеки."
      ],
      "metadata": {
        "id": "LedLOlZ5Ex5V"
      }
    },
    {
      "cell_type": "markdown",
      "metadata": {
        "id": "gsfmaSGoItUm"
      },
      "source": [
        "В начале размер словаря был 56942, а сейчас 45308. Это значит, что мы уменьшили число различных токенов: убрали большинство неинформативных."
      ]
    },
    {
      "cell_type": "markdown",
      "metadata": {
        "id": "lm6UHNmqKZT0"
      },
      "source": [
        "Посмотрим на какой-нибудь конкретный твитт:"
      ]
    },
    {
      "cell_type": "code",
      "execution_count": null,
      "metadata": {
        "id": "aJVjjfqOJh8m",
        "colab": {
          "base_uri": "https://localhost:8080/"
        },
        "outputId": "8c99aa2a-480d-48f7-bc7f-df74b1abd5bf"
      },
      "outputs": [
        {
          "output_type": "execute_result",
          "data": {
            "text/plain": [
              "('Nice one @SkyNews lets not panic but show ppl in france queueing for food!!! #CoronavirusOutbreak #COVID2019 brainless!! Ffs',\n",
              " 0)"
            ]
          },
          "metadata": {},
          "execution_count": 25
        }
      ],
      "source": [
        "ind = 9023\n",
        "train.iloc[ind]['OriginalTweet'], train.iloc[ind]['Sentiment']"
      ]
    },
    {
      "cell_type": "markdown",
      "metadata": {
        "id": "PBMIHBI5KdaS"
      },
      "source": [
        "Автор твитта не доволен ситуацией с едой во Франции и текст имеет резко негативную окраску.\n",
        "\n",
        "Применим обученный CountVectorizer для векторизации данного текста, и попытаемся определить самый важный токен и самый неважный токен (токен, компонента которого в векторе максимальна/минимальна, без учета 0)."
      ]
    },
    {
      "cell_type": "code",
      "execution_count": null,
      "metadata": {
        "id": "7NcAllaEKsJj",
        "colab": {
          "base_uri": "https://localhost:8080/"
        },
        "outputId": "3ec38388-560b-4864-c1fb-19862cc79c6a"
      },
      "outputs": [
        {
          "output_type": "stream",
          "name": "stdout",
          "text": [
            "Все токены встречаются с одинаковой частотой.\n",
            "1833 #coronavirusoutbreak 1\n",
            "2046 #covid2019 1\n",
            "16658 @skynews 1\n",
            "20553 brainless 1\n",
            "26665 ffs 1\n",
            "27042 food 1\n",
            "27233 france 1\n",
            "31579 lets 1\n",
            "34079 nice 1\n",
            "34688 one 1\n",
            "35257 panic 1\n",
            "36413 ppl 1\n",
            "37229 queueing 1\n",
            "39919 show 1\n"
          ]
        }
      ],
      "source": [
        "# Векторизация твита\n",
        "tweet_vector = cv.transform([train.iloc[ind]['OriginalTweet']]).toarray()\n",
        "# Получаем двумерный массив NumPy из одной строки, потому что мы векторизовали\n",
        "# ровно один твит\n",
        "\n",
        "# Получаем список токенов из векторайзера\n",
        "tokens = cv.get_feature_names_out()\n",
        "\n",
        "max_token_index = tweet_vector.argmax()\n",
        "# В однострочной матрице .argmax() вернет индекс в этой строке, который\n",
        "# соответствует столбцу в исходной матрице, где находится максимальное значение.\n",
        "\n",
        "min_token_count = tweet_vector[tweet_vector > 0].min()\n",
        "min_token_index = (tweet_vector == min_token_count).argmax()\n",
        "\n",
        "# Выводим самый важный и самый неважный токен\n",
        "if max_token_index == min_token_index:\n",
        "  print(\"Все токены встречаются с одинаковой частотой.\")\n",
        "  for i in range(len(tweet_vector[0])):\n",
        "    if tweet_vector[0][i]:\n",
        "      print(i, tokens[i], tweet_vector[0][i])\n",
        "else:\n",
        "  print(\"Самый важный токен:\", tokens[max_token_index], \"с встречаемостью\", tweet_vector[0][max_token_index])\n",
        "  print(\"Самый неважный токен:\", tokens[min_token_index], \"с встречаемостью\", tweet_vector[0][min_token_index])"
      ]
    },
    {
      "cell_type": "markdown",
      "metadata": {
        "id": "TpEsl1k_NF4T"
      },
      "source": [
        "Все токены встречаются с одинкавой частотой в данном твите, поэтому мы не можем сделать вывод с выбранным подходом."
      ]
    },
    {
      "cell_type": "markdown",
      "metadata": {
        "id": "w4DsEQpLO3J6"
      },
      "source": [
        "Теперь применим TfidfVectorizer и  определим самый важный/неважный токены."
      ]
    },
    {
      "cell_type": "code",
      "execution_count": null,
      "metadata": {
        "id": "uSNzdK3ENGB3",
        "colab": {
          "base_uri": "https://localhost:8080/"
        },
        "outputId": "c3322b54-918f-407b-b9fd-fbc0441275fb"
      },
      "outputs": [
        {
          "output_type": "stream",
          "name": "stdout",
          "text": [
            "Твит: Nice one @SkyNews lets not panic but show ppl in france queueing for food!!! #CoronavirusOutbreak #COVID2019 brainless!! Ffs\n",
            "Самый важный токен: brainless с встречаемостью 0.3867641170466375\n",
            "Самый неважный токен: food с встречаемостью 0.11328893069250721\n"
          ]
        }
      ],
      "source": [
        "from sklearn.feature_extraction.text import TfidfVectorizer\n",
        "\n",
        "# Определение TfidfVectorizer, используя тот же custom_tokenizer\n",
        "tfidf_vectorizer = TfidfVectorizer(tokenizer=custom_tokenizer)\n",
        "\n",
        "tfidf_vectorizer.fit(train['OriginalTweet'])\n",
        "\n",
        "# Получаем список токенов из векторайзера\n",
        "tokens = tfidf_vectorizer.get_feature_names_out()\n",
        "\n",
        "# Векторизация твита\n",
        "tweet = train.iloc[ind]['OriginalTweet']\n",
        "print(\"Твит:\", tweet)\n",
        "tweet_tfidf_vector = tfidf_vectorizer.transform([tweet]).toarray()\n",
        "\n",
        "max_token_index = tweet_tfidf_vector.argmax()\n",
        "min_token_count = tweet_tfidf_vector[tweet_tfidf_vector > 0].min()\n",
        "min_token_index = (tweet_tfidf_vector == min_token_count).argmax()\n",
        "\n",
        "# Выводим самый важный и самый неважный токен\n",
        "if max_token_index == min_token_index:\n",
        "  print(\"Все токены встречаются с одинаковой частотой.\")\n",
        "else:\n",
        "  print(\"Самый важный токен:\", tokens[max_token_index], \"с встречаемостью\", tweet_tfidf_vector[0][max_token_index])\n",
        "  print(\"Самый неважный токен:\", tokens[min_token_index], \"с встречаемостью\", tweet_tfidf_vector[0][min_token_index])"
      ]
    },
    {
      "cell_type": "markdown",
      "metadata": {
        "id": "NYao_UhqQADm"
      },
      "source": [
        "TfidfVectorizer помогает выявить не просто часто встречающиеся слова, но слова, которые являются значимыми в контексте всего корпуса данных.\n",
        "\n",
        "Токены хорошо определились. Действительно, слово brainless указывает на негативную эмоциональную окраску.\n",
        "\n",
        "По поводу food ответ неоднозначный. С одной стороны, это слово действительно можно посчитать незначимым, нейтральным. С другой стороны, я предполагаю, что многие твиты, упоминающие проблемы с едой, могут быть негативными. Надо проанализировать выборку, чтобы что-то утверждать."
      ]
    },
    {
      "cell_type": "markdown",
      "metadata": {
        "id": "LGRJPqfWSesQ"
      },
      "source": [
        "Найдем какой-нибудь положительно окрашенный твитт, где TfidfVectorizer хорошо (полезно для определения окраски) выделяет важный токен.Явно положительные твитты можно искать при помощи положительных слов (good, great, amazing и т. д.)"
      ]
    },
    {
      "cell_type": "code",
      "execution_count": null,
      "metadata": {
        "colab": {
          "base_uri": "https://localhost:8080/",
          "height": 423
        },
        "id": "bRbQ2CHiSuJI",
        "outputId": "bd31351a-87ea-4740-829e-9c8b0a95d464"
      },
      "outputs": [
        {
          "output_type": "execute_result",
          "data": {
            "text/plain": [
              "       UserName  ScreenName               Location     TweetAt  \\\n",
              "21541     30079       75031                Unknown  02-04-2020   \n",
              "20314     28576       73528       New Delhi, India  27-03-2020   \n",
              "192        4035       48987          San Diego, CA  16-03-2020   \n",
              "5140      10048       55000            New Zealand  19-03-2020   \n",
              "19139     27090       72042                Unknown  25-03-2020   \n",
              "...         ...         ...                    ...         ...   \n",
              "19361     27366       72318                Unknown  26-03-2020   \n",
              "6250      11382       56334          Mumbai, India  19-03-2020   \n",
              "15997     23260       68212  sales@esmmagazine.com  24-03-2020   \n",
              "18819     26706       71658            Chicago, IL  25-03-2020   \n",
              "18430     26221       71173                Unknown  25-03-2020   \n",
              "\n",
              "                                           OriginalTweet  Sentiment  \n",
              "21541  To all my marketers friends, this is a very go...          1  \n",
              "20314  India on lockdown...I'm more worried by death ...          1  \n",
              "192    What's a good way to support grocery store, me...          1  \n",
              "5140   Countdown supermarket limiting some goods: You...          1  \n",
              "19139  @MorganRadford good segment!  BTW where did yo...          1  \n",
              "...                                                  ...        ...  \n",
              "19361  @jichiemin LetÃÂs hope it not #coronavirus ?...          1  \n",
              "6250   Respected Sir @narendramodi \\r\\r\\n\\r\\r\\nWe und...          1  \n",
              "15997  #Consumer goods giant @Unilever Plc said on Tu...          1  \n",
              "18819  Online grocery shopping? Here are some good ti...          1  \n",
              "18430  It's a shame more corporate Masters of the Uni...          1  \n",
              "\n",
              "[548 rows x 6 columns]"
            ],
            "text/html": [
              "\n",
              "  <div id=\"df-663b0ef6-95fe-4afc-bdc2-bb69fe03f3a4\" class=\"colab-df-container\">\n",
              "    <div>\n",
              "<style scoped>\n",
              "    .dataframe tbody tr th:only-of-type {\n",
              "        vertical-align: middle;\n",
              "    }\n",
              "\n",
              "    .dataframe tbody tr th {\n",
              "        vertical-align: top;\n",
              "    }\n",
              "\n",
              "    .dataframe thead th {\n",
              "        text-align: right;\n",
              "    }\n",
              "</style>\n",
              "<table border=\"1\" class=\"dataframe\">\n",
              "  <thead>\n",
              "    <tr style=\"text-align: right;\">\n",
              "      <th></th>\n",
              "      <th>UserName</th>\n",
              "      <th>ScreenName</th>\n",
              "      <th>Location</th>\n",
              "      <th>TweetAt</th>\n",
              "      <th>OriginalTweet</th>\n",
              "      <th>Sentiment</th>\n",
              "    </tr>\n",
              "  </thead>\n",
              "  <tbody>\n",
              "    <tr>\n",
              "      <th>21541</th>\n",
              "      <td>30079</td>\n",
              "      <td>75031</td>\n",
              "      <td>Unknown</td>\n",
              "      <td>02-04-2020</td>\n",
              "      <td>To all my marketers friends, this is a very go...</td>\n",
              "      <td>1</td>\n",
              "    </tr>\n",
              "    <tr>\n",
              "      <th>20314</th>\n",
              "      <td>28576</td>\n",
              "      <td>73528</td>\n",
              "      <td>New Delhi, India</td>\n",
              "      <td>27-03-2020</td>\n",
              "      <td>India on lockdown...I'm more worried by death ...</td>\n",
              "      <td>1</td>\n",
              "    </tr>\n",
              "    <tr>\n",
              "      <th>192</th>\n",
              "      <td>4035</td>\n",
              "      <td>48987</td>\n",
              "      <td>San Diego, CA</td>\n",
              "      <td>16-03-2020</td>\n",
              "      <td>What's a good way to support grocery store, me...</td>\n",
              "      <td>1</td>\n",
              "    </tr>\n",
              "    <tr>\n",
              "      <th>5140</th>\n",
              "      <td>10048</td>\n",
              "      <td>55000</td>\n",
              "      <td>New Zealand</td>\n",
              "      <td>19-03-2020</td>\n",
              "      <td>Countdown supermarket limiting some goods: You...</td>\n",
              "      <td>1</td>\n",
              "    </tr>\n",
              "    <tr>\n",
              "      <th>19139</th>\n",
              "      <td>27090</td>\n",
              "      <td>72042</td>\n",
              "      <td>Unknown</td>\n",
              "      <td>25-03-2020</td>\n",
              "      <td>@MorganRadford good segment!  BTW where did yo...</td>\n",
              "      <td>1</td>\n",
              "    </tr>\n",
              "    <tr>\n",
              "      <th>...</th>\n",
              "      <td>...</td>\n",
              "      <td>...</td>\n",
              "      <td>...</td>\n",
              "      <td>...</td>\n",
              "      <td>...</td>\n",
              "      <td>...</td>\n",
              "    </tr>\n",
              "    <tr>\n",
              "      <th>19361</th>\n",
              "      <td>27366</td>\n",
              "      <td>72318</td>\n",
              "      <td>Unknown</td>\n",
              "      <td>26-03-2020</td>\n",
              "      <td>@jichiemin LetÃÂs hope it not #coronavirus ?...</td>\n",
              "      <td>1</td>\n",
              "    </tr>\n",
              "    <tr>\n",
              "      <th>6250</th>\n",
              "      <td>11382</td>\n",
              "      <td>56334</td>\n",
              "      <td>Mumbai, India</td>\n",
              "      <td>19-03-2020</td>\n",
              "      <td>Respected Sir @narendramodi \\r\\r\\n\\r\\r\\nWe und...</td>\n",
              "      <td>1</td>\n",
              "    </tr>\n",
              "    <tr>\n",
              "      <th>15997</th>\n",
              "      <td>23260</td>\n",
              "      <td>68212</td>\n",
              "      <td>sales@esmmagazine.com</td>\n",
              "      <td>24-03-2020</td>\n",
              "      <td>#Consumer goods giant @Unilever Plc said on Tu...</td>\n",
              "      <td>1</td>\n",
              "    </tr>\n",
              "    <tr>\n",
              "      <th>18819</th>\n",
              "      <td>26706</td>\n",
              "      <td>71658</td>\n",
              "      <td>Chicago, IL</td>\n",
              "      <td>25-03-2020</td>\n",
              "      <td>Online grocery shopping? Here are some good ti...</td>\n",
              "      <td>1</td>\n",
              "    </tr>\n",
              "    <tr>\n",
              "      <th>18430</th>\n",
              "      <td>26221</td>\n",
              "      <td>71173</td>\n",
              "      <td>Unknown</td>\n",
              "      <td>25-03-2020</td>\n",
              "      <td>It's a shame more corporate Masters of the Uni...</td>\n",
              "      <td>1</td>\n",
              "    </tr>\n",
              "  </tbody>\n",
              "</table>\n",
              "<p>548 rows × 6 columns</p>\n",
              "</div>\n",
              "    <div class=\"colab-df-buttons\">\n",
              "\n",
              "  <div class=\"colab-df-container\">\n",
              "    <button class=\"colab-df-convert\" onclick=\"convertToInteractive('df-663b0ef6-95fe-4afc-bdc2-bb69fe03f3a4')\"\n",
              "            title=\"Convert this dataframe to an interactive table.\"\n",
              "            style=\"display:none;\">\n",
              "\n",
              "  <svg xmlns=\"http://www.w3.org/2000/svg\" height=\"24px\" viewBox=\"0 -960 960 960\">\n",
              "    <path d=\"M120-120v-720h720v720H120Zm60-500h600v-160H180v160Zm220 220h160v-160H400v160Zm0 220h160v-160H400v160ZM180-400h160v-160H180v160Zm440 0h160v-160H620v160ZM180-180h160v-160H180v160Zm440 0h160v-160H620v160Z\"/>\n",
              "  </svg>\n",
              "    </button>\n",
              "\n",
              "  <style>\n",
              "    .colab-df-container {\n",
              "      display:flex;\n",
              "      gap: 12px;\n",
              "    }\n",
              "\n",
              "    .colab-df-convert {\n",
              "      background-color: #E8F0FE;\n",
              "      border: none;\n",
              "      border-radius: 50%;\n",
              "      cursor: pointer;\n",
              "      display: none;\n",
              "      fill: #1967D2;\n",
              "      height: 32px;\n",
              "      padding: 0 0 0 0;\n",
              "      width: 32px;\n",
              "    }\n",
              "\n",
              "    .colab-df-convert:hover {\n",
              "      background-color: #E2EBFA;\n",
              "      box-shadow: 0px 1px 2px rgba(60, 64, 67, 0.3), 0px 1px 3px 1px rgba(60, 64, 67, 0.15);\n",
              "      fill: #174EA6;\n",
              "    }\n",
              "\n",
              "    .colab-df-buttons div {\n",
              "      margin-bottom: 4px;\n",
              "    }\n",
              "\n",
              "    [theme=dark] .colab-df-convert {\n",
              "      background-color: #3B4455;\n",
              "      fill: #D2E3FC;\n",
              "    }\n",
              "\n",
              "    [theme=dark] .colab-df-convert:hover {\n",
              "      background-color: #434B5C;\n",
              "      box-shadow: 0px 1px 3px 1px rgba(0, 0, 0, 0.15);\n",
              "      filter: drop-shadow(0px 1px 2px rgba(0, 0, 0, 0.3));\n",
              "      fill: #FFFFFF;\n",
              "    }\n",
              "  </style>\n",
              "\n",
              "    <script>\n",
              "      const buttonEl =\n",
              "        document.querySelector('#df-663b0ef6-95fe-4afc-bdc2-bb69fe03f3a4 button.colab-df-convert');\n",
              "      buttonEl.style.display =\n",
              "        google.colab.kernel.accessAllowed ? 'block' : 'none';\n",
              "\n",
              "      async function convertToInteractive(key) {\n",
              "        const element = document.querySelector('#df-663b0ef6-95fe-4afc-bdc2-bb69fe03f3a4');\n",
              "        const dataTable =\n",
              "          await google.colab.kernel.invokeFunction('convertToInteractive',\n",
              "                                                    [key], {});\n",
              "        if (!dataTable) return;\n",
              "\n",
              "        const docLinkHtml = 'Like what you see? Visit the ' +\n",
              "          '<a target=\"_blank\" href=https://colab.research.google.com/notebooks/data_table.ipynb>data table notebook</a>'\n",
              "          + ' to learn more about interactive tables.';\n",
              "        element.innerHTML = '';\n",
              "        dataTable['output_type'] = 'display_data';\n",
              "        await google.colab.output.renderOutput(dataTable, element);\n",
              "        const docLink = document.createElement('div');\n",
              "        docLink.innerHTML = docLinkHtml;\n",
              "        element.appendChild(docLink);\n",
              "      }\n",
              "    </script>\n",
              "  </div>\n",
              "\n",
              "\n",
              "<div id=\"df-1fa503c3-90cc-4fd4-8744-5df946ef3e1e\">\n",
              "  <button class=\"colab-df-quickchart\" onclick=\"quickchart('df-1fa503c3-90cc-4fd4-8744-5df946ef3e1e')\"\n",
              "            title=\"Suggest charts\"\n",
              "            style=\"display:none;\">\n",
              "\n",
              "<svg xmlns=\"http://www.w3.org/2000/svg\" height=\"24px\"viewBox=\"0 0 24 24\"\n",
              "     width=\"24px\">\n",
              "    <g>\n",
              "        <path d=\"M19 3H5c-1.1 0-2 .9-2 2v14c0 1.1.9 2 2 2h14c1.1 0 2-.9 2-2V5c0-1.1-.9-2-2-2zM9 17H7v-7h2v7zm4 0h-2V7h2v10zm4 0h-2v-4h2v4z\"/>\n",
              "    </g>\n",
              "</svg>\n",
              "  </button>\n",
              "\n",
              "<style>\n",
              "  .colab-df-quickchart {\n",
              "      --bg-color: #E8F0FE;\n",
              "      --fill-color: #1967D2;\n",
              "      --hover-bg-color: #E2EBFA;\n",
              "      --hover-fill-color: #174EA6;\n",
              "      --disabled-fill-color: #AAA;\n",
              "      --disabled-bg-color: #DDD;\n",
              "  }\n",
              "\n",
              "  [theme=dark] .colab-df-quickchart {\n",
              "      --bg-color: #3B4455;\n",
              "      --fill-color: #D2E3FC;\n",
              "      --hover-bg-color: #434B5C;\n",
              "      --hover-fill-color: #FFFFFF;\n",
              "      --disabled-bg-color: #3B4455;\n",
              "      --disabled-fill-color: #666;\n",
              "  }\n",
              "\n",
              "  .colab-df-quickchart {\n",
              "    background-color: var(--bg-color);\n",
              "    border: none;\n",
              "    border-radius: 50%;\n",
              "    cursor: pointer;\n",
              "    display: none;\n",
              "    fill: var(--fill-color);\n",
              "    height: 32px;\n",
              "    padding: 0;\n",
              "    width: 32px;\n",
              "  }\n",
              "\n",
              "  .colab-df-quickchart:hover {\n",
              "    background-color: var(--hover-bg-color);\n",
              "    box-shadow: 0 1px 2px rgba(60, 64, 67, 0.3), 0 1px 3px 1px rgba(60, 64, 67, 0.15);\n",
              "    fill: var(--button-hover-fill-color);\n",
              "  }\n",
              "\n",
              "  .colab-df-quickchart-complete:disabled,\n",
              "  .colab-df-quickchart-complete:disabled:hover {\n",
              "    background-color: var(--disabled-bg-color);\n",
              "    fill: var(--disabled-fill-color);\n",
              "    box-shadow: none;\n",
              "  }\n",
              "\n",
              "  .colab-df-spinner {\n",
              "    border: 2px solid var(--fill-color);\n",
              "    border-color: transparent;\n",
              "    border-bottom-color: var(--fill-color);\n",
              "    animation:\n",
              "      spin 1s steps(1) infinite;\n",
              "  }\n",
              "\n",
              "  @keyframes spin {\n",
              "    0% {\n",
              "      border-color: transparent;\n",
              "      border-bottom-color: var(--fill-color);\n",
              "      border-left-color: var(--fill-color);\n",
              "    }\n",
              "    20% {\n",
              "      border-color: transparent;\n",
              "      border-left-color: var(--fill-color);\n",
              "      border-top-color: var(--fill-color);\n",
              "    }\n",
              "    30% {\n",
              "      border-color: transparent;\n",
              "      border-left-color: var(--fill-color);\n",
              "      border-top-color: var(--fill-color);\n",
              "      border-right-color: var(--fill-color);\n",
              "    }\n",
              "    40% {\n",
              "      border-color: transparent;\n",
              "      border-right-color: var(--fill-color);\n",
              "      border-top-color: var(--fill-color);\n",
              "    }\n",
              "    60% {\n",
              "      border-color: transparent;\n",
              "      border-right-color: var(--fill-color);\n",
              "    }\n",
              "    80% {\n",
              "      border-color: transparent;\n",
              "      border-right-color: var(--fill-color);\n",
              "      border-bottom-color: var(--fill-color);\n",
              "    }\n",
              "    90% {\n",
              "      border-color: transparent;\n",
              "      border-bottom-color: var(--fill-color);\n",
              "    }\n",
              "  }\n",
              "</style>\n",
              "\n",
              "  <script>\n",
              "    async function quickchart(key) {\n",
              "      const quickchartButtonEl =\n",
              "        document.querySelector('#' + key + ' button');\n",
              "      quickchartButtonEl.disabled = true;  // To prevent multiple clicks.\n",
              "      quickchartButtonEl.classList.add('colab-df-spinner');\n",
              "      try {\n",
              "        const charts = await google.colab.kernel.invokeFunction(\n",
              "            'suggestCharts', [key], {});\n",
              "      } catch (error) {\n",
              "        console.error('Error during call to suggestCharts:', error);\n",
              "      }\n",
              "      quickchartButtonEl.classList.remove('colab-df-spinner');\n",
              "      quickchartButtonEl.classList.add('colab-df-quickchart-complete');\n",
              "    }\n",
              "    (() => {\n",
              "      let quickchartButtonEl =\n",
              "        document.querySelector('#df-1fa503c3-90cc-4fd4-8744-5df946ef3e1e button');\n",
              "      quickchartButtonEl.style.display =\n",
              "        google.colab.kernel.accessAllowed ? 'block' : 'none';\n",
              "    })();\n",
              "  </script>\n",
              "</div>\n",
              "    </div>\n",
              "  </div>\n"
            ],
            "application/vnd.google.colaboratory.intrinsic+json": {
              "type": "dataframe",
              "summary": "{\n  \"name\": \"train[train['OriginalTweet']\",\n  \"rows\": 548,\n  \"fields\": [\n    {\n      \"column\": \"UserName\",\n      \"properties\": {\n        \"dtype\": \"number\",\n        \"std\": 11702,\n        \"min\": 3920,\n        \"max\": 44826,\n        \"num_unique_values\": 548,\n        \"samples\": [\n          15360,\n          34480,\n          31665\n        ],\n        \"semantic_type\": \"\",\n        \"description\": \"\"\n      }\n    },\n    {\n      \"column\": \"ScreenName\",\n      \"properties\": {\n        \"dtype\": \"number\",\n        \"std\": 11702,\n        \"min\": 48872,\n        \"max\": 89778,\n        \"num_unique_values\": 548,\n        \"samples\": [\n          60312,\n          79432,\n          76617\n        ],\n        \"semantic_type\": \"\",\n        \"description\": \"\"\n      }\n    },\n    {\n      \"column\": \"Location\",\n      \"properties\": {\n        \"dtype\": \"string\",\n        \"num_unique_values\": 341,\n        \"samples\": [\n          \"Frankfurt, Hesse\",\n          \"Melbourne, Australia\",\n          \"Nepal\"\n        ],\n        \"semantic_type\": \"\",\n        \"description\": \"\"\n      }\n    },\n    {\n      \"column\": \"TweetAt\",\n      \"properties\": {\n        \"dtype\": \"category\",\n        \"num_unique_values\": 30,\n        \"samples\": [\n          \"29-03-2020\",\n          \"06-04-2020\",\n          \"28-03-2020\"\n        ],\n        \"semantic_type\": \"\",\n        \"description\": \"\"\n      }\n    },\n    {\n      \"column\": \"OriginalTweet\",\n      \"properties\": {\n        \"dtype\": \"string\",\n        \"num_unique_values\": 548,\n        \"samples\": [\n          \"@MattHancock it's no good saying supermarkets are limiting the number you can buy when same supermarkets let them get that number of things, leave the store and go back minutes later and get the same number again! #coronavirus #StopHoarding\",\n          \"The tale of a rare good contains 80vol alcohol Where does the increase in prices come from in up to 500 Global price decreases since months Minor ingredients glycerine H2O2 are available at the expense of lives\",\n          \"Bro said they are queing out the supermarket the whole of the massive carpark out of it and half way up the street. A good hrs wait. #covid19UK #coronavirusuk #coronavirus\"\n        ],\n        \"semantic_type\": \"\",\n        \"description\": \"\"\n      }\n    },\n    {\n      \"column\": \"Sentiment\",\n      \"properties\": {\n        \"dtype\": \"number\",\n        \"std\": 0,\n        \"min\": 1,\n        \"max\": 1,\n        \"num_unique_values\": 1,\n        \"samples\": [\n          1\n        ],\n        \"semantic_type\": \"\",\n        \"description\": \"\"\n      }\n    }\n  ]\n}"
            }
          },
          "metadata": {},
          "execution_count": 28
        }
      ],
      "source": [
        "train[train['OriginalTweet'].apply(lambda x: 'good' in x) & (train['Sentiment'] == 1)]"
      ]
    },
    {
      "cell_type": "code",
      "source": [
        "positive_tweet = train[(train['OriginalTweet'].str.contains('good')) & (train['Sentiment'] == 1)]\n",
        "tokens = tfidf_vectorizer.get_feature_names_out()\n",
        "\n",
        "for index, row in positive_tweet.iterrows():\n",
        "    # Векторизация твита\n",
        "    tweet_tfidf_vector = tfidf_vectorizer.transform([row['OriginalTweet']]).toarray()\n",
        "\n",
        "    max_token_index = tweet_tfidf_vector.argmax()\n",
        "    min_token_count = tweet_tfidf_vector[tweet_tfidf_vector > 0].min()\n",
        "    min_token_index = (tweet_tfidf_vector == min_token_count).argmax()\n",
        "\n",
        "    if tokens[max_token_index] in ['good', 'great', 'amazing', 'healthy']:\n",
        "        print(\"Твит:\", row['OriginalTweet'])\n",
        "        print(\"Самый важный токен:\", tokens[max_token_index])\n",
        "\n",
        "        # Вычисляем количества использования токена в положительно и негативно окрашенных твитах\n",
        "        positive_count = train[train['OriginalTweet'].str.contains(tokens[max_token_index]) & (train['Sentiment'] == 1)].shape[0]\n",
        "        negative_count = train[train['OriginalTweet'].str.contains(tokens[max_token_index]) & (train['Sentiment'] == 0)].shape[0]\n",
        "        print(\"Количество положительных упоминаний токена:\", positive_count)\n",
        "        print(\"Количество негативных упоминаний токена:\", negative_count)\n",
        "        break"
      ],
      "metadata": {
        "colab": {
          "base_uri": "https://localhost:8080/"
        },
        "id": "q4qBOgfUrGOv",
        "outputId": "e70fa313-71b9-41e0-f9e0-02d145406dc6"
      },
      "execution_count": null,
      "outputs": [
        {
          "output_type": "stream",
          "name": "stdout",
          "text": [
            "Твит: All those years of watching supermarket sweep is finally paying off ???? #coronavirus #COVID19 Try and laugh today. Its gonna be a good day ? A smile looks good on you ?? https://t.co/RWzUdYMA2s\n",
            "Самый важный токен: good\n",
            "Количество положительных упоминаний токена: 548\n",
            "Количество негативных упоминаний токена: 233\n"
          ]
        }
      ]
    },
    {
      "cell_type": "markdown",
      "metadata": {
        "id": "JTv9ST2_U6NA"
      },
      "source": [
        "С помощью ключевого слова \"good\" я нашла твит с определенно положительной окраской, в котором слово good является также самым важным. Мы действительно можем сказать, что это слово неплохо указывает на положительный окрас, ведь в большинство твитов со словом good имеют положительный окрас."
      ]
    },
    {
      "cell_type": "markdown",
      "metadata": {
        "id": "JVEuZm8BHms6"
      },
      "source": [
        "## Обучение первых моделей"
      ]
    },
    {
      "cell_type": "markdown",
      "metadata": {
        "id": "JADkO3sfXdOG"
      },
      "source": [
        "Применим оба векторайзера для получения матриц с признаками текстов.  Выделим целевую переменную."
      ]
    },
    {
      "cell_type": "code",
      "execution_count": null,
      "metadata": {
        "id": "DguoiXhCX2oN"
      },
      "outputs": [],
      "source": [
        "# Преобразование текстов в матрицы признаков\n",
        "count_features = cv.transform(train['OriginalTweet'])\n",
        "tfidf_features = tfidf_vectorizer.transform(train['OriginalTweet'])\n",
        "\n",
        "# Выделение целевой переменной\n",
        "target = train['Sentiment']"
      ]
    },
    {
      "cell_type": "markdown",
      "metadata": {
        "id": "_FX1KSOfYSx4"
      },
      "source": [
        "Обучим логистическую регрессию на векторах из обоих векторайзеров. Посчитаем долю правильных ответов на обучающих и тестовых данных."
      ]
    },
    {
      "cell_type": "code",
      "execution_count": null,
      "metadata": {
        "id": "-Tb3eh8UXJ6v",
        "colab": {
          "base_uri": "https://localhost:8080/"
        },
        "outputId": "4fa4d51c-19c8-40b1-eba3-900722446276"
      },
      "outputs": [
        {
          "output_type": "stream",
          "name": "stdout",
          "text": [
            "CountVectorizer - Train Accuracy: 0.9844510892780863\n",
            "CountVectorizer - Test Accuracy: 0.8672513454255532\n",
            "TfidfVectorizer - Train Accuracy: 0.9254592054677488\n",
            "TfidfVectorizer - Test Accuracy: 0.8533984452860275\n"
          ]
        }
      ],
      "source": [
        "from sklearn.linear_model import LogisticRegression\n",
        "from sklearn.metrics import accuracy_score\n",
        "\n",
        "model_count = LogisticRegression(max_iter=1000)\n",
        "# При max_iter=100 (значение по умолчанию) возникает предупреждение о том, что\n",
        "# нужно увеличить количество итераций или изменить другие параметры модели.\n",
        "# Это означает, что модель не сошлась к оптимальному решению за 100 итераций.\n",
        "model_count.fit(count_features, target)\n",
        "\n",
        "model_tfidf = LogisticRegression(max_iter=1000)\n",
        "model_tfidf.fit(tfidf_features, target)\n",
        "\n",
        "count_features_test = cv.transform(test['OriginalTweet'])\n",
        "tfidf_features_test = tfidf_vectorizer.transform(test['OriginalTweet'])\n",
        "target_test = test['Sentiment']\n",
        "\n",
        "# Оценка модели, обученной на CountVectorizer\n",
        "train_preds_count = model_count.predict(count_features)\n",
        "test_preds_count = model_count.predict(count_features_test)\n",
        "train_accuracy_count = accuracy_score(target, train_preds_count)\n",
        "test_accuracy_count = accuracy_score(target_test, test_preds_count)\n",
        "\n",
        "# Оценка модели, обученной на TfidfVectorizer\n",
        "train_preds_tfidf = model_tfidf.predict(tfidf_features)\n",
        "test_preds_tfidf = model_tfidf.predict(tfidf_features_test)\n",
        "train_accuracy_tfidf = accuracy_score(target, train_preds_tfidf)\n",
        "test_accuracy_tfidf = accuracy_score(target_test, test_preds_tfidf)\n",
        "\n",
        "print(\"CountVectorizer - Train Accuracy:\", train_accuracy_count)\n",
        "print(\"CountVectorizer - Test Accuracy:\", test_accuracy_count)\n",
        "print(\"TfidfVectorizer - Train Accuracy:\", train_accuracy_tfidf)\n",
        "print(\"TfidfVectorizer - Test Accuracy:\", test_accuracy_tfidf)"
      ]
    },
    {
      "cell_type": "markdown",
      "metadata": {
        "id": "8y_wO7rCmv7K"
      },
      "source": [
        "CountVectorizer получил лучший результат и на обучающей выборке, и на тестовой.\n",
        "\n",
        "При этом стоит отметить, что модель, обученная на CounterVectorizer имеет бОльшую разницу между точностями на обучающей и тестовой выборке, что говорит о том, что модель переобучена; в то время как модель, обученная на TfidfVectorizer менее подвержена переобучению.\n",
        "\n",
        "Вывод: Несмотря на то, что CountVectorizer показал выше точность на тестовых данных, он склонен к переобучению. TfidfVectorizer, показав более низкую разницу между обучением и тестированием, может быть более предпочтительным, потому что является более стабильным."
      ]
    },
    {
      "cell_type": "markdown",
      "metadata": {
        "id": "rSOR1i3mjrys"
      },
      "source": [
        "## Стемминг"
      ]
    },
    {
      "cell_type": "markdown",
      "metadata": {
        "id": "i6ONBWNPjuq-"
      },
      "source": [
        "Для уменьшения словаря можно использовать стемминг.\n",
        "\n",
        "Модифицируем написанный токенайзер, добавив в него стемминг с использованием SnowballStemmer. Обучим Count- и Tfidf- векторайзеры."
      ]
    },
    {
      "cell_type": "code",
      "execution_count": null,
      "metadata": {
        "id": "oVfA2-iMkQBb"
      },
      "outputs": [],
      "source": [
        "from nltk.stem.snowball import SnowballStemmer\n",
        "\n",
        "def custom_stem_tokenizer(text):\n",
        "  text = text.lower()\n",
        "  tokens = TweetTokenizer().tokenize(text)\n",
        "\n",
        "  # Инициализируем стеммер для английского языка. Вообще лучше это делать один раз,\n",
        "  # а не при каждом запуске функции, потому что текущий вариант менее эффективен.\n",
        "  # Но так как по заданию нужно модифицировать функцию, оставим инициализацию тут.\n",
        "  stemmer = SnowballStemmer(\"english\")\n",
        "\n",
        "  tokens = [stemmer.stem(token) for token in tokens if token not in stop_words and token not in punctuation and\n",
        "             (len(token) != 1 or ord(token[0]) < 128) and 'https://t.co' not in token[:12]]\n",
        "  return tokens"
      ]
    },
    {
      "cell_type": "markdown",
      "source": [
        "Стемминг - это процесс поиска основы слова для заданного исходного слова. Например, для слова \"Африки\" основа будет \"Африк\"."
      ],
      "metadata": {
        "id": "XeoPVTBN1ENv"
      }
    },
    {
      "cell_type": "code",
      "execution_count": null,
      "metadata": {
        "colab": {
          "base_uri": "https://localhost:8080/"
        },
        "id": "9QmrjYtqnlPd",
        "outputId": "2fcd8b65-55fd-44f8-f841-dcf74e570bf6"
      },
      "outputs": [
        {
          "output_type": "execute_result",
          "data": {
            "text/plain": [
              "['sampl', 'text', '@sample_text', '#sampletext', 'ad', 'word', 'check', 'stem']"
            ]
          },
          "metadata": {},
          "execution_count": 33
        }
      ],
      "source": [
        "custom_stem_tokenizer('This is sample text!!!! @Sample_text I, \\x92\\x92 https://t.co/sample  #sampletext adding more words to check stemming')"
      ]
    },
    {
      "cell_type": "code",
      "execution_count": null,
      "metadata": {
        "colab": {
          "base_uri": "https://localhost:8080/"
        },
        "id": "zAvUTmaplzOS",
        "outputId": "0f4806ed-b67e-4946-9396-92a58e406bfa"
      },
      "outputs": [
        {
          "output_type": "stream",
          "name": "stderr",
          "text": [
            "/usr/local/lib/python3.10/dist-packages/sklearn/feature_extraction/text.py:528: UserWarning: The parameter 'token_pattern' will not be used since 'tokenizer' is not None'\n",
            "  warnings.warn(\n"
          ]
        },
        {
          "output_type": "stream",
          "name": "stdout",
          "text": [
            "36652\n",
            "36652\n"
          ]
        }
      ],
      "source": [
        "cv = CountVectorizer(tokenizer=custom_stem_tokenizer)\n",
        "cv.fit(train['OriginalTweet'])\n",
        "print(len(cv.vocabulary_))\n",
        "\n",
        "tfidf = TfidfVectorizer(tokenizer=custom_stem_tokenizer)\n",
        "tfidf.fit(train['OriginalTweet'])\n",
        "print(len(tfidf.vocabulary_))"
      ]
    },
    {
      "cell_type": "markdown",
      "metadata": {
        "id": "Oyzs5TaAoHP6"
      },
      "source": [
        "Раньше размер словаря был 45308, а теперь 36652. Это потому, что некоторые различные токены с одинаковой основой объединились в один токен, равный этой основе."
      ]
    },
    {
      "cell_type": "markdown",
      "metadata": {
        "id": "1OkncHI8oRmd"
      },
      "source": [
        "Обучим логистическую регрессию с использованием обоих векторайзеров."
      ]
    },
    {
      "cell_type": "code",
      "execution_count": null,
      "metadata": {
        "id": "ykZJPphEoZ5W",
        "colab": {
          "base_uri": "https://localhost:8080/"
        },
        "outputId": "7a102e14-799a-4d54-8498-7985b9eb523d"
      },
      "outputs": [
        {
          "output_type": "stream",
          "name": "stdout",
          "text": [
            "CountVectorizer - Train Accuracy: 0.9718923536950022\n",
            "CountVectorizer - Test Accuracy: 0.8672513454255532\n",
            "TfidfVectorizer - Train Accuracy: 0.9158906450234943\n",
            "TfidfVectorizer - Test Accuracy: 0.8560892963922663\n"
          ]
        }
      ],
      "source": [
        "# Преобразование текстов в матрицы признаков\n",
        "count_features = cv.transform(train['OriginalTweet'])\n",
        "tfidf_features = tfidf.transform(train['OriginalTweet'])\n",
        "\n",
        "model_count.fit(count_features, target)\n",
        "model_tfidf.fit(tfidf_features, target)\n",
        "\n",
        "count_features_test = cv.transform(test['OriginalTweet'])\n",
        "tfidf_features_test = tfidf.transform(test['OriginalTweet'])\n",
        "\n",
        "# Оценка модели, обученной на CountVectorizer\n",
        "train_preds_count = model_count.predict(count_features)\n",
        "test_preds_count = model_count.predict(count_features_test)\n",
        "train_accuracy_count = accuracy_score(target, train_preds_count)\n",
        "test_accuracy_count = accuracy_score(target_test, test_preds_count)\n",
        "\n",
        "# Оценка модели, обученной на TfidfVectorizer\n",
        "train_preds_tfidf = model_tfidf.predict(tfidf_features)\n",
        "test_preds_tfidf = model_tfidf.predict(tfidf_features_test)\n",
        "train_accuracy_tfidf = accuracy_score(target, train_preds_tfidf)\n",
        "test_accuracy_tfidf = accuracy_score(target_test, test_preds_tfidf)\n",
        "\n",
        "print(\"CountVectorizer - Train Accuracy:\", train_accuracy_count)\n",
        "print(\"CountVectorizer - Test Accuracy:\", test_accuracy_count)\n",
        "print(\"TfidfVectorizer - Train Accuracy:\", train_accuracy_tfidf)\n",
        "print(\"TfidfVectorizer - Test Accuracy:\", test_accuracy_tfidf)"
      ]
    },
    {
      "cell_type": "markdown",
      "metadata": {
        "id": "bCRlrODro0h8"
      },
      "source": [
        "Результат без стемминга:\n",
        "\n",
        "CountVectorizer - Train Accuracy: 0.9844510892780863\n",
        "\n",
        "CountVectorizer - Test Accuracy: 0.8672513454255532\n",
        "\n",
        "TfidfVectorizer - Train Accuracy: 0.9254592054677488\n",
        "\n",
        "TfidfVectorizer - Test Accuracy: 0.8533984452860275\n",
        "\n",
        "Результат со стеммингом:\n",
        "\n",
        "CountVectorizer - Train Accuracy: 0.9718923536950022\n",
        "\n",
        "CountVectorizer - Test Accuracy: 0.8672513454255532\n",
        "\n",
        "TfidfVectorizer - Train Accuracy: 0.9158906450234943\n",
        "\n",
        "TfidfVectorizer - Test Accuracy: 0.8560892963922663\n",
        "\n",
        "Для обоих векторайзеров точность на обучающей выборке уменьшилась после введения стемминга. Это может указывать на то, что модель стала менее переобученной и лучше обобщает, поскольку стемминг уменьшил вариативность форм слов.\n",
        "\n",
        "Для CountVectorizer точность на тестовой выборке осталась неизменной, что может свидетельствовать о том, что модель и до стемминга была адекватно настроена на обобщение.\n",
        "Для TfidfVectorizer наблюдается небольшое улучшение точности на тестовой выборке. Это может означать, что стемминг помог модели лучше обобщать за счёт уменьшения влияния различных форм одного и того же слова.\n",
        "\n",
        "Применение стемминга может быть полезным, потому что по снижению точности на тренировочных данных и незначительному улучшению на тестовых мы видим уменьшение переобучения."
      ]
    },
    {
      "cell_type": "markdown",
      "metadata": {
        "id": "hYWGQNEDqLC-"
      },
      "source": [
        "## Работа с частотами"
      ]
    },
    {
      "cell_type": "markdown",
      "metadata": {
        "id": "8Hq-tl5mqUSn"
      },
      "source": [
        "Еще один способ уменьшить количество признаков - это использовать параметры min_df и max_df при построении векторайзера  эти параметры помогают ограничить требуемую частоту встречаемости токена в документах.\n",
        "\n",
        "По умолчанию берутся все токены, которые встретились хотя бы один раз.\n",
        "\n"
      ]
    },
    {
      "cell_type": "markdown",
      "metadata": {
        "id": "m1SiD4DE3WZ2"
      },
      "source": [
        "Подберем max_df такой, что размер словаря будет 36651 (на 1 меньше, чем было)."
      ]
    },
    {
      "cell_type": "code",
      "execution_count": null,
      "metadata": {
        "colab": {
          "base_uri": "https://localhost:8080/"
        },
        "id": "o3YLb8PViExb",
        "outputId": "f138eb18-2b78-4c72-dae4-c52d0725dcec"
      },
      "outputs": [
        {
          "output_type": "stream",
          "name": "stderr",
          "text": [
            "/usr/local/lib/python3.10/dist-packages/sklearn/feature_extraction/text.py:528: UserWarning: The parameter 'token_pattern' will not be used since 'tokenizer' is not None'\n",
            "  warnings.warn(\n"
          ]
        },
        {
          "output_type": "stream",
          "name": "stdout",
          "text": [
            "36651\n"
          ]
        }
      ],
      "source": [
        "cv_df = CountVectorizer(tokenizer=custom_stem_tokenizer,\n",
        "                        max_df=7500\n",
        "                        ).fit(\n",
        "                            train['OriginalTweet']\n",
        "                            )\n",
        "print(len(cv_df.vocabulary_))"
      ]
    },
    {
      "cell_type": "code",
      "source": [
        "max_df_ratio = 7500 / df.shape[0] * 100  # Процент документов\n",
        "print(\"max_df in percent:\", max_df_ratio)"
      ],
      "metadata": {
        "colab": {
          "base_uri": "https://localhost:8080/"
        },
        "id": "L7Lvw0Np_2aI",
        "outputId": "50d48d10-eff8-4577-eb15-be3c45e0fe94"
      },
      "execution_count": null,
      "outputs": [
        {
          "output_type": "stream",
          "name": "stdout",
          "text": [
            "max_df in percent: 22.425547183351274\n"
          ]
        }
      ]
    },
    {
      "cell_type": "markdown",
      "metadata": {
        "id": "UdZYoGZR4UsA"
      },
      "source": [
        "Значение max_df = 7500 может быть слишком высоким, чтобы значительно повлиять на размер словаря, потому что большинство слов встречается в меньшем числе документов. Таким образом, этот параметр эффективен только для исключения очень-очень частых слов, которых может быть не так много.\n",
        "\n",
        "При этом мы исключили все слова, которые встречаются более чем в 22.42% всех твитов, а размер словаря уменьшился всего лишь на 1. Это говорит о том, что большинство таких слов и так были удалены токенизацией (стоп-слова), а мы лишь \"отловили\" еще одно часто употребимое в данном контексте слово."
      ]
    },
    {
      "cell_type": "markdown",
      "metadata": {
        "id": "_gRIUaB1u32f"
      },
      "source": [
        "Подберем min_df (используем дефолтное значение max_df) в CountVectorizer таким образом, чтобы размер словаря был 3700 токенов (при использовании токенайзера со стеммингом)."
      ]
    },
    {
      "cell_type": "code",
      "execution_count": null,
      "metadata": {
        "colab": {
          "base_uri": "https://localhost:8080/"
        },
        "id": "kSnMJkn9XmsT",
        "outputId": "98ce6b19-9ba6-42c4-daf5-665b9e30eb10"
      },
      "outputs": [
        {
          "output_type": "stream",
          "name": "stdout",
          "text": [
            "3700\n"
          ]
        }
      ],
      "source": [
        "cv_df = CountVectorizer(tokenizer=custom_stem_tokenizer,\n",
        "                        min_df=11\n",
        "                        ).fit(\n",
        "                            train['OriginalTweet']\n",
        "                            )\n",
        "print(len(cv_df.vocabulary_))"
      ]
    },
    {
      "cell_type": "code",
      "execution_count": null,
      "metadata": {
        "id": "mvMDwpdfjm8Y",
        "colab": {
          "base_uri": "https://localhost:8080/"
        },
        "outputId": "1f3368aa-7b7c-4e92-b862-e5c6776b389d"
      },
      "outputs": [
        {
          "output_type": "stream",
          "name": "stdout",
          "text": [
            "min_df in percent: 0.03289080253558187\n"
          ]
        }
      ],
      "source": [
        "min_df_ratio = 11 / df.shape[0] * 100  # Процент документов\n",
        "print(\"min_df in percent:\", min_df_ratio)"
      ]
    },
    {
      "cell_type": "code",
      "source": [
        "count_features = cv_df.transform(train['OriginalTweet'])\n",
        "\n",
        "model_count.fit(count_features, target)\n",
        "\n",
        "count_features_test = cv_df.transform(test['OriginalTweet'])\n",
        "\n",
        "# Оценка модели, обученной на CountVectorizer\n",
        "train_preds_count = model_count.predict(count_features)\n",
        "test_preds_count = model_count.predict(count_features_test)\n",
        "train_accuracy_count = accuracy_score(target, train_preds_count)\n",
        "test_accuracy_count = accuracy_score(target_test, test_preds_count)\n",
        "\n",
        "print(\"CountVectorizer - Train Accuracy:\", train_accuracy_count)\n",
        "print(\"CountVectorizer - Test Accuracy:\", test_accuracy_count)"
      ],
      "metadata": {
        "colab": {
          "base_uri": "https://localhost:8080/"
        },
        "id": "nvPvVaB5aSWh",
        "outputId": "3959b722-c20a-49b2-8bc9-f033d0cdc6e9"
      },
      "execution_count": null,
      "outputs": [
        {
          "output_type": "stream",
          "name": "stdout",
          "text": [
            "CountVectorizer - Train Accuracy: 0.9286629645450662\n",
            "CountVectorizer - Test Accuracy: 0.8680486346422165\n"
          ]
        }
      ]
    },
    {
      "cell_type": "markdown",
      "metadata": {
        "id": "3fGYpUIZx0fk"
      },
      "source": [
        "Мы исключили все слова, которые встречаются менее, чем в 11 документах. Это может помочь снизить шум в данных.\n",
        "\n",
        "Исключены токены, встречающиеся менее чем в 0.03289% всех документов. Это довольно маленькая доля, что указывает на то, что большинство слов распределены достаточно равномерно, и лишь небольшая часть из них является крайне редкой.\n",
        "\n",
        "Теперь результат на обучающей выборке хуже, а на тестовой лучше: разрыв между ними уменьшился. Мы продолжаем бороться с переобучаемостью."
      ]
    },
    {
      "cell_type": "markdown",
      "metadata": {
        "id": "Gx_h_-inKbBl"
      },
      "source": [
        "В предыдущих пунктах признаки не скалировались. Отскалируем данные (при словаре размера 3.7 тысяч, векторизованные CountVectorizer), обучим логистическую регрессию, посмотрим качество и выведем `berplot` содержащий по 10 токенов, с наибольшим по модулю положительными/отрицательными весами."
      ]
    },
    {
      "cell_type": "code",
      "execution_count": null,
      "metadata": {
        "id": "KBATXJX6LG9q",
        "colab": {
          "base_uri": "https://localhost:8080/",
          "height": 665
        },
        "outputId": "9e224fb2-8589-4ff9-bc3d-5485f516a978"
      },
      "outputs": [
        {
          "output_type": "stream",
          "name": "stdout",
          "text": [
            "Train Accuracy: 0.9416915847928236\n",
            "Test Accuracy: 0.8446282639027307\n"
          ]
        },
        {
          "output_type": "stream",
          "name": "stderr",
          "text": [
            "<ipython-input-41-f5a15ac7babd>:45: FutureWarning: \n",
            "\n",
            "Passing `palette` without assigning `hue` is deprecated and will be removed in v0.14.0. Assign the `y` variable to `hue` and set `legend=False` for the same effect.\n",
            "\n",
            "  sns.barplot(x=[coef for tok, coef in sorted_tokens if coef > 0][:10], y=top_positive_tokens, ax=ax[0], palette=\"Blues_d\")\n",
            "<ipython-input-41-f5a15ac7babd>:47: FutureWarning: \n",
            "\n",
            "Passing `palette` without assigning `hue` is deprecated and will be removed in v0.14.0. Assign the `y` variable to `hue` and set `legend=False` for the same effect.\n",
            "\n",
            "  sns.barplot(x=[coef for tok, coef in sorted_tokens if coef < 0][:10], y=top_negative_tokens, ax=ax[1], palette=\"Reds_d\")\n"
          ]
        },
        {
          "output_type": "display_data",
          "data": {
            "text/plain": [
              "<Figure size 1400x500 with 2 Axes>"
            ],
            "image/png": "[encoded data removed]"
          },
          "metadata": {}
        }
      ],
      "source": [
        "from sklearn.preprocessing import StandardScaler\n",
        "from sklearn.pipeline import make_pipeline\n",
        "import matplotlib.pyplot as plt\n",
        "import seaborn as sns\n",
        "\n",
        "# Создание пайплайна с масштабированием и логистической регрессией\n",
        "pipeline = make_pipeline(StandardScaler(with_mean=False), LogisticRegression(max_iter=1000))\n",
        "'''\n",
        "make_pipeline позволяет объединить несколько шагов обработки данных в один пайплайн.\n",
        "\n",
        "Масштабирование данных с помощью вычитания среднего значения (with_mean=True) и\n",
        "последующего деления на стандартное отклонение может привести к тому, что\n",
        "большинство значений в столбцах разреженной таблицы станут ненулевыми.\n",
        "Это изменение сделает матрицу плотной, что существенно увеличит объем памяти\n",
        "'''\n",
        "\n",
        "# Обучение модели\n",
        "pipeline.fit(count_features, target)\n",
        "\n",
        "# Оценка качества модели\n",
        "train_preds = pipeline.predict(count_features)\n",
        "test_preds = pipeline.predict(count_features_test)\n",
        "train_accuracy = accuracy_score(target, train_preds)\n",
        "test_accuracy = accuracy_score(target_test, test_preds)\n",
        "\n",
        "print(\"Train Accuracy:\", train_accuracy)\n",
        "print(\"Test Accuracy:\", test_accuracy)\n",
        "\n",
        "# Получение коэффициентов модели\n",
        "coefficients = pipeline.named_steps['logisticregression'].coef_[0]\n",
        "\n",
        "# Связывание токенов с их коэффициентами\n",
        "token_coefficients = zip(cv.get_feature_names_out(), coefficients)\n",
        "\n",
        "# Сортировка токенов по абсолютному значению коэффициентов\n",
        "sorted_tokens = sorted(token_coefficients, key=lambda x: abs(x[1]), reverse=True)\n",
        "\n",
        "# Выбор топ-10 положительных и топ-10 отрицательных токенов\n",
        "top_positive_tokens = [tok for tok, coef in sorted_tokens if coef > 0][:10]\n",
        "top_negative_tokens = [tok for tok, coef in sorted_tokens if coef < 0][:10]\n",
        "\n",
        "# Построение barplot\n",
        "fig, ax = plt.subplots(1, 2, figsize=(14, 5))\n",
        "\n",
        "sns.barplot(x=[coef for tok, coef in sorted_tokens if coef > 0][:10], y=top_positive_tokens, ax=ax[0], palette=\"Blues_d\")\n",
        "ax[0].set_title(\"Top 10 Positive Tokens\")\n",
        "sns.barplot(x=[coef for tok, coef in sorted_tokens if coef < 0][:10], y=top_negative_tokens, ax=ax[1], palette=\"Reds_d\")\n",
        "ax[1].set_title(\"Top 10 Negative Tokens\")\n",
        "\n",
        "plt.suptitle('Top 10 Tokens')\n",
        "plt.tight_layout()\n",
        "plt.show()"
      ]
    },
    {
      "cell_type": "markdown",
      "metadata": {
        "id": "ThcEfzY1LHET"
      },
      "source": [
        "Проанализируем положительные токены:\n",
        "1. #coronavã и #coronavi связаны с общими упоминаниями коронавируса. Они отражают нейтральные или информативные сообщения о вирусе.\n",
        "2. По поводу #coughonmeandillnutya у меня нет предположений. Возможно, это юмористическая фраза.\n",
        "3. #generalconfer относится к конференциям или обсуждениям, связанным с коронавирусом. Предполагаю, что такой тег ставят организаторы/участники какого-то мероприятия, поэтому подобные твиты отражают информативные и/или позитивные сообщения.\n",
        "4. #curfewinkenya: комендантский час в Кении как мера предотвращения распространения вируса, что может быть воспринято как необходимая и положительная мера.\n",
        "5. #blockchain: скорее всего это про технологию, которая могла использоваться для безопасного обмена медицинскими данными, что воспринимается как инновационное решение в кризис.\n",
        "\n",
        "Проанализируем негативные токены:\n",
        "1. #ccp: предполагаю, что это китайская коммунистическая партия, которая часто упоминаемая в контексте критики начального ответа на вирус.\n",
        "2. #dortmund может относиться к событиям или новостям, связанным с этим городом в Германии.\n",
        "3. #ferret относится к новостям или исследованиям, связанным с хорьками. \"Способность хорьков заражаться новым коронавирусом SARS-CoV-2 подтвердили специалисты\".\n",
        "4. #crazytimesã отражает общее чувство неопределенности и стресса во время пандемии.\n",
        "5. #cdc: центры по контролю и профилактике заболеваний, которые могли быть критикованы за их действия или рекомендации.\n",
        "\n",
        "Я хочу обратить внимание, что все токены из этих топов являются хэштегами. Это может говорить о том, что именно теги являются наиболее информативными в вопросах об эмоциональной окраске твита.\n",
        "\n"
      ]
    },
    {
      "cell_type": "markdown",
      "metadata": {
        "id": "ktJVOdrIHq7B"
      },
      "source": [
        "## Другие признаки"
      ]
    },
    {
      "cell_type": "markdown",
      "metadata": {
        "id": "Yt3jRCZ2H0Og"
      },
      "source": [
        "Мы были сконцентрированы на работе с текстами твиттов и не использовали другие признаки - имена пользователя, дату и местоположение"
      ]
    },
    {
      "cell_type": "markdown",
      "metadata": {
        "id": "52wjewCCo_di"
      },
      "source": [
        "Изучим признаки UserName и ScreenName. Полезны ли они?"
      ]
    },
    {
      "cell_type": "code",
      "execution_count": null,
      "metadata": {
        "id": "63thouYZptj6",
        "colab": {
          "base_uri": "https://localhost:8080/"
        },
        "outputId": "3ee31644-2180-41a8-9d0c-d6bc6e6455a7"
      },
      "outputs": [
        {
          "output_type": "stream",
          "name": "stdout",
          "text": [
            "33444\n",
            "33444\n"
          ]
        }
      ],
      "source": [
        "print(df.shape[0])\n",
        "print(df['UserName'].unique().shape[0])"
      ]
    },
    {
      "cell_type": "markdown",
      "metadata": {
        "id": "r8_qR-gnpT3a"
      },
      "source": [
        "Эти признаки бесполезны по двум причинам.\n",
        "1. Если бы были сохранены реальные имена, то они могли бы иметь значение. Пример: UserName -- \"IHateCoronavirus\". Но в базе даны числа, а они неинформативны.\n",
        "2. Если бы было множество твитов от одних и тех же юзеров, то можно было бы отследить, что какой-то человек чаще пишет позитивные комментарии и на основе этого делать предикт о нем для новых твитов. Но в базе все юзеры уникальны (проверка в коде выше), поэтому этот подход неинформативен."
      ]
    },
    {
      "cell_type": "markdown",
      "metadata": {
        "id": "ythEcFSkt7y3"
      },
      "source": [
        "Изучим признак TweetAt в обучающей выборке: преобразуем его к типу datetime и нарисуем его гистограмму с разделением по цвету на основе целевой переменной. Полезен ли он?"
      ]
    },
    {
      "cell_type": "code",
      "execution_count": null,
      "metadata": {
        "id": "Lxb_k0JLirNv",
        "colab": {
          "base_uri": "https://localhost:8080/",
          "height": 607
        },
        "outputId": "7dbe0900-e05d-4747-8066-cd1b85b44a52"
      },
      "outputs": [
        {
          "output_type": "display_data",
          "data": {
            "text/plain": [
              "<Figure size 1000x600 with 1 Axes>"
            ],
            "image/png": "[encoded data removed]"
          },
          "metadata": {}
        }
      ],
      "source": [
        "# Преобразование 'TweetAt' в datetime\n",
        "train['TweetAt'] = pd.to_datetime(train['TweetAt'], format='%d-%m-%Y')\n",
        "\n",
        "\n",
        "# Создание гистограммы с разделением по целевой переменной\n",
        "plt.figure(figsize=(10, 6))\n",
        "sns.histplot(data=train, x='TweetAt', hue='Sentiment', element='step', palette='viridis', bins=30)\n",
        "plt.title('Distribution of Tweets Over Time by Sentiment')\n",
        "plt.xlabel('Date')\n",
        "plt.ylabel('Count')\n",
        "plt.xticks(rotation=45)\n",
        "plt.tight_layout()\n",
        "plt.show()"
      ]
    },
    {
      "cell_type": "markdown",
      "metadata": {
        "id": "4IdLBdpQxM-G"
      },
      "source": [
        "График показывает, что количество твитов варьируется от дня к дню. Это может указывать на влияние внешних событий, новостей или развития ситуации с коронавирусом на общественное восприятие и реакции в социальных медиа.\n",
        "\n",
        "На графике заметны пики и спады активности, которые могут коррелировать с определёнными событиями или изменениями в ходе пандемии. Например, рост числа твитов может быть связан с введением или отменой карантинных мер, важными заявлениями официальных лиц, изменениями в статистике заболеваемости и т.д.\n",
        "\n",
        "Особые различия в количестве положительных и отрицательных твитов не выявлены. Наличие корреляции между временем и настроением твита не подтверждает причинную связь. Пики в положительных или отрицательных твитах могут быть вызваны внешними событиями, которые не учитываются в дате. А дата -- это всего лишь число. По числу, не имея метаинформации, не удастся сделать даже частичный прогноз.\n",
        "\n",
        "Также твиты одного дня могут охватывать широкий спектр тем — от новостей о вакцинации до сообщений о новых ограничениях или статистике заболеваемости. Каждое из этих событий может вызывать разные эмоции, которые не улавливаются просто анализом даты.\n",
        "\n",
        "Модель может переобучиться из-за нюансов конкретных дат в обучающем наборе данных, которые не являются обобщаемыми на новые данные.\n",
        "\n",
        "К тому же, в столбце TweetAt указывается только дата без времени. Намного интереснее было бы посмотреть на время публикации. Возможно, хейтеры активизируются ближе к вечеру или что-то подобное.\n",
        "\n",
        "В связи со всем упомянутым выше я считаю этот признак неинформативным.\n",
        "\n"
      ]
    },
    {
      "cell_type": "markdown",
      "metadata": {
        "id": "r2JtRPhNP6qx"
      },
      "source": [
        "Поработаем с признаком Location в обучающей выборке. Сколько уникальных значений?"
      ]
    },
    {
      "cell_type": "code",
      "execution_count": null,
      "metadata": {
        "id": "xYQZQ1FRNpoe",
        "colab": {
          "base_uri": "https://localhost:8080/"
        },
        "outputId": "83bfce98-334c-4c17-cef0-1c73ae4710ce"
      },
      "outputs": [
        {
          "output_type": "execute_result",
          "data": {
            "text/plain": [
              "7949"
            ]
          },
          "metadata": {},
          "execution_count": 51
        }
      ],
      "source": [
        "train['Location'].unique().shape[0]"
      ]
    },
    {
      "cell_type": "markdown",
      "metadata": {
        "id": "6k4JwpRTQISa"
      },
      "source": [
        "Построем гистограмму топ-10 по популярности местоположений (исключая Unknown)."
      ]
    },
    {
      "cell_type": "code",
      "execution_count": null,
      "metadata": {
        "id": "J91YkhegJ0mz",
        "colab": {
          "base_uri": "https://localhost:8080/",
          "height": 607
        },
        "outputId": "5d5e39b0-4fea-4324-ab71-d6a14e83587d"
      },
      "outputs": [
        {
          "output_type": "display_data",
          "data": {
            "text/plain": [
              "<Figure size 1000x600 with 1 Axes>"
            ],
            "image/png": "[encoded data removed]"
          },
          "metadata": {}
        }
      ],
      "source": [
        "# Фильтрация записей, где местоположение неизвестно\n",
        "filtered_train = train[train['Location'] != 'Unknown']\n",
        "\n",
        "# Подсчет вхождений каждого местоположения\n",
        "location_counts = filtered_train['Location'].value_counts()\n",
        "\n",
        "# Выбор топ-10 местоположений\n",
        "top_locations = location_counts.head(10)\n",
        "\n",
        "# Создание гистограммы\n",
        "plt.figure(figsize=(10, 6))\n",
        "top_locations.plot(kind='bar', color='skyblue')\n",
        "plt.title('Top 10 Most Popular Locations for Tweets')\n",
        "plt.xlabel('Location')\n",
        "plt.ylabel('Number of Tweets')\n",
        "plt.xticks(rotation=45, ha='right')  # Поворот меток для лучшей читаемости\n",
        "plt.tight_layout()\n",
        "plt.show()"
      ]
    },
    {
      "cell_type": "markdown",
      "metadata": {
        "id": "ZOsv3lODTfYB"
      },
      "source": [
        "Видно, что многие местоположения включают в себя более точное название места, чем другие (Например, у некоторых стоит London, UK; а у некоторых просто UK или United Kingdom).\n",
        "\n",
        "Создадим новый признак WiderLocation, который содержит самое широкое местоположение (например, из London, UK должно получиться UK). Сколько уникальных категорий теперь? Построем аналогичную гистограмму."
      ]
    },
    {
      "cell_type": "code",
      "execution_count": null,
      "metadata": {
        "id": "mSkow6acOMyD",
        "colab": {
          "base_uri": "https://localhost:8080/",
          "height": 624
        },
        "outputId": "7274590d-505a-405b-f6cb-0e066775b4fc"
      },
      "outputs": [
        {
          "output_type": "stream",
          "name": "stdout",
          "text": [
            "4631\n"
          ]
        },
        {
          "output_type": "display_data",
          "data": {
            "text/plain": [
              "<Figure size 1000x600 with 1 Axes>"
            ],
            "image/png": "[encoded data removed]"
          },
          "metadata": {}
        }
      ],
      "source": [
        "# Определение функции для извлечения широкого местоположения\n",
        "def get_wider_location(location):\n",
        "    if pd.isna(location):\n",
        "        return \"Unknown\"\n",
        "    parts = location.split(',')\n",
        "\n",
        "    # Возвращаем последний элемент после разделения, который предполагается быть страной или широким регионом\n",
        "    return parts[-1].strip()\n",
        "    # strip() используется для удаления начальных и конечных пробелов\n",
        "\n",
        "\n",
        "# Создание необходимого столбца\n",
        "train['WiderLocation'] = train['Location'].apply(get_wider_location)\n",
        "\n",
        "print(train['WiderLocation'].unique().shape[0])\n",
        "\n",
        "# Фильтрация записей, где местоположение неизвестно\n",
        "filtered_train = train[train['WiderLocation'] != 'Unknown']\n",
        "\n",
        "# Подсчет вхождений каждого местоположения\n",
        "location_counts = filtered_train['WiderLocation'].value_counts()\n",
        "\n",
        "# Выбор топ-10 местоположений\n",
        "top_locations = location_counts.head(10)\n",
        "\n",
        "# Создание гистограммы\n",
        "plt.figure(figsize=(10, 6))\n",
        "top_locations.plot(kind='bar', color='skyblue')\n",
        "plt.title('Top 10 Most Popular Locations for Tweets')\n",
        "plt.xlabel('Location')\n",
        "plt.ylabel('Number of Tweets')\n",
        "plt.xticks(rotation=45, ha='right')  # Поворот меток для лучшей читаемости\n",
        "plt.tight_layout()\n",
        "plt.show()"
      ]
    },
    {
      "cell_type": "markdown",
      "metadata": {
        "id": "cgyWrD2eVfff"
      },
      "source": [
        "Закодируем признак WiderLocation с помощью OHE таким образом, чтобы создались только столбцы для местоположений, которые встречаются более одного раза. Сколько таких значений?\n"
      ]
    },
    {
      "cell_type": "code",
      "execution_count": null,
      "metadata": {
        "id": "SeJBfBWgPvg_",
        "colab": {
          "base_uri": "https://localhost:8080/"
        },
        "collapsed": true,
        "outputId": "6f2dcbfa-cba0-458d-9ace-e582c89a8d43"
      },
      "outputs": [
        {
          "output_type": "stream",
          "name": "stdout",
          "text": [
            "4630\n",
            "              \\\n",
            "30135  False   \n",
            "28899  False   \n",
            "5989   False   \n",
            "4367   False   \n",
            "21350  False   \n",
            "\n",
            "       \"..I had to find the passage back to the place I was before..\\r\\r\\nYou can check-out any time you like\\r\\r\\nBut you can never leave!\"  \\\n",
            "30135                                              False                                                                                       \n",
            "28899                                              False                                                                                       \n",
            "5989                                               False                                                                                       \n",
            "4367                                               False                                                                                       \n",
            "21350                                              False                                                                                       \n",
            "\n",
            "       \"DeviantArt\"  #Africa  #America  #AuditTheFed  \\\n",
            "30135         False    False     False         False   \n",
            "28899         False    False     False         False   \n",
            "5989          False    False     False         False   \n",
            "4367          False    False     False         False   \n",
            "21350         False    False     False         False   \n",
            "\n",
            "       #AustinTx & #NorfolkVa *U*S*A*  #BayArea #Alameda  \\\n",
            "30135                           False              False   \n",
            "28899                           False              False   \n",
            "5989                            False              False   \n",
            "4367                            False              False   \n",
            "21350                           False              False   \n",
            "\n",
            "       #BayArea #SouthBay Bureau  #CampSupernatural England  ...  ~514~  \\\n",
            "30135                      False                      False  ...  False   \n",
            "28899                      False                      False  ...  False   \n",
            "5989                       False                      False  ...  False   \n",
            "4367                       False                      False  ...  False   \n",
            "21350                      False                      False  ...  False   \n",
            "\n",
            "         ÃÂ  ÃÂBerta  ÃÂThe Garden Of EnglandÃÂ ???  ÃÂ¯\\_(?)_/ÃÂ¯  \\\n",
            "30135  False      False                              False            False   \n",
            "28899  False      False                              False            False   \n",
            "5989   False      False                              False            False   \n",
            "4367   False      False                              False            False   \n",
            "21350  False      False                              False            False   \n",
            "\n",
            "       ÃÂire  ÃÂsterreich  ÃÂ  l'ÃÂ©chelle mondiale  \\\n",
            "30135    False          False                       False   \n",
            "28899    False          False                       False   \n",
            "5989     False          False                       False   \n",
            "4367     False          False                       False   \n",
            "21350    False          False                       False   \n",
            "\n",
            "       ÃÂ­ ?ÃÂ­?? ÃÂ­? ? ????? ?????? ?????  ÃÂ¯? ???????'? ?????????  \n",
            "30135                                    False                      False  \n",
            "28899                                    False                      False  \n",
            "5989                                     False                      False  \n",
            "4367                                     False                      False  \n",
            "21350                                    False                      False  \n",
            "\n",
            "[5 rows x 4630 columns]\n",
            "       UserName  ScreenName             Location    TweetAt  \\\n",
            "25621     35178       80130              Unknown 2020-04-06   \n",
            "30135     40819       85771        Boston, MA HQ 2020-04-10   \n",
            "28899     39249       84201                India 2020-04-09   \n",
            "5989      11068       56020  Mayfair, London, UK 2020-03-19   \n",
            "4367       9109       54061                  WNC 2020-03-18   \n",
            "\n",
            "                                           OriginalTweet  Sentiment  \\\n",
            "25621  Why we still want to buy so much stuff during ...          1   \n",
            "30135  With driving even more usage a strong strategy...          1   \n",
            "28899  @Canon_India I am very happy.. Great job by @C...          1   \n",
            "5989   The U.S national debt will likely exceed $30 T...          0   \n",
            "4367   Finally got to the grocery store. Honestly, wh...          1   \n",
            "\n",
            "      WiderLocation    USA  England     CA  ...  Telangana  North Dakota  \\\n",
            "25621       Unknown  False    False  False  ...      False         False   \n",
            "30135         MA HQ  False    False  False  ...      False         False   \n",
            "28899         India  False    False  False  ...      False         False   \n",
            "5989             UK  False    False  False  ...      False         False   \n",
            "4367            WNC  False    False  False  ...      False         False   \n",
            "\n",
            "           T  Dubai/Mumbai  Farms across the U.S. & Canada  Portland ME  \\\n",
            "25621  False         False                           False        False   \n",
            "30135  False         False                           False        False   \n",
            "28899  False         False                           False        False   \n",
            "5989   False         False                           False        False   \n",
            "4367   False         False                           False        False   \n",
            "\n",
            "       Australian Capital T  bokaro steel city  NY USA  on your nerves  \n",
            "25621                 False              False   False           False  \n",
            "30135                 False              False   False           False  \n",
            "28899                 False              False   False           False  \n",
            "5989                  False              False   False           False  \n",
            "4367                  False              False   False           False  \n",
            "\n",
            "[5 rows x 994 columns]\n"
          ]
        }
      ],
      "source": [
        "# Фильтруем местоположения, встречающиеся более одного раза\n",
        "frequent_locations = location_counts[location_counts > 1].index\n",
        "print(len(location_counts))\n",
        "\n",
        "# Применяем One-Hot Encoding только к фильтрованному списку местоположений\n",
        "ohe_df = pd.get_dummies(filtered_train['WiderLocation'])\n",
        "\n",
        "# Показываем результат кодирования\n",
        "print(ohe_df.head())\n",
        "\n",
        "# Создаем столбцы One-Hot Encoding только для часто встречающихся местоположений\n",
        "ohe_train = pd.get_dummies(train['WiderLocation'])\n",
        "# Фильтруем столбцы, оставляя только те, которые соответствуют частым местоположениям\n",
        "ohe_train = ohe_train[frequent_locations]\n",
        "\n",
        "# Объединяем полученные OHE столбцы с исходным DataFrame\n",
        "train_extended = pd.concat([train, ohe_train], axis=1)\n"
      ]
    },
    {
      "cell_type": "markdown",
      "source": [
        "Таких значений 4630, уменьшилось всего на 1."
      ],
      "metadata": {
        "id": "kX3Uq4-cbzU8"
      }
    },
    {
      "cell_type": "markdown",
      "metadata": {
        "id": "ZyMX5kZuimPK"
      },
      "source": [
        "Добавим этот признак к матрице отскалированных текстовых признаков, обучим логистическую регрессию, замерим качество."
      ]
    },
    {
      "cell_type": "code",
      "execution_count": null,
      "metadata": {
        "id": "EO1jNPeeim7A",
        "colab": {
          "base_uri": "https://localhost:8080/"
        },
        "outputId": "1a69a3ba-d681-4e51-ad6f-7a9f472c4acb"
      },
      "outputs": [
        {
          "output_type": "stream",
          "name": "stderr",
          "text": [
            "/usr/local/lib/python3.10/dist-packages/sklearn/feature_extraction/text.py:528: UserWarning: The parameter 'token_pattern' will not be used since 'tokenizer' is not None'\n",
            "  warnings.warn(\n"
          ]
        },
        {
          "output_type": "stream",
          "name": "stdout",
          "text": [
            "Train Accuracy: 0.931824006834686\n",
            "Test Accuracy: 0.8667530396651385\n"
          ]
        }
      ],
      "source": [
        "from scipy.sparse import hstack\n",
        "\n",
        "cv = CountVectorizer(tokenizer=custom_stem_tokenizer, min_df=11)\n",
        "train_text = cv.fit_transform(train['OriginalTweet'])\n",
        "test_text = cv.transform(test['OriginalTweet'])\n",
        "\n",
        "# Создание необходимого столбца\n",
        "test['WiderLocation'] = test['Location'].apply(get_wider_location)\n",
        "\n",
        "# Создаем OHE для тестового набора\n",
        "ohe_test = pd.get_dummies(test['WiderLocation'])\n",
        "ohe_train, ohe_test = ohe_train.align(ohe_test, join='inner', axis=1, fill_value=0)\n",
        "\n",
        "X_train = hstack([train_text, ohe_train])\n",
        "X_test = hstack([test_text, ohe_test])\n",
        "\n",
        "model = LogisticRegression(max_iter=1000)\n",
        "model.fit(X_train, train['Sentiment'])\n",
        "\n",
        "# Оценка модели\n",
        "y_pred_train = model.predict(X_train)\n",
        "y_pred_test = model.predict(X_test)\n",
        "train_accuracy = accuracy_score(train['Sentiment'], y_pred_train)\n",
        "test_accuracy = accuracy_score(test['Sentiment'], y_pred_test)\n",
        "\n",
        "print(\"Train Accuracy:\", train_accuracy)\n",
        "print(\"Test Accuracy:\", test_accuracy)"
      ]
    },
    {
      "cell_type": "markdown",
      "metadata": {
        "id": "7dHsGlDRYUQt"
      },
      "source": [
        "Прошлый результат:\n",
        "Train Accuracy: 0.9416915847928236\n",
        "Test Accuracy: 0.8446282639027307\n",
        "\n",
        "Текущий результат:\n",
        "Train Accuracy: 0.931824006834686\n",
        "Test Accuracy: 0.8667530396651385\n",
        "\n",
        "Результат на тестовой выборке стал лучше, а переобучаемость ниже. Значит, признак полезен для добавления его в анализ."
      ]
    }
  ],
  "metadata": {
    "colab": {
      "provenance": []
    },
    "kernelspec": {
      "display_name": "Python 3",
      "name": "python3"
    },
    "language_info": {
      "name": "python"
    }
  },
  "nbformat": 4,
  "nbformat_minor": 0
}